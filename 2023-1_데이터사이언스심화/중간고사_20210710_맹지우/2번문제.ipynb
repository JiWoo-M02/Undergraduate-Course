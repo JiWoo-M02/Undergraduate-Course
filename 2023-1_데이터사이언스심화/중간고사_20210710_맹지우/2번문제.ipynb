{
 "cells": [
  {
   "cell_type": "code",
   "execution_count": 43,
   "id": "b16ff6ed",
   "metadata": {},
   "outputs": [],
   "source": [
    "import turtle\n",
    "import random\n",
    "\n",
    "t = turtle.Turtle()\n",
    "t.shape(\"turtle\")\n",
    "\n",
    "count = 0\n",
    "while count < 35: # 0부터 시작하니까 35미만으로 해야 35회 이동할 수 있음\n",
    "    direction = random.randrange(2) # 0 또는 1 중에서 랜덤한 값을 선택\n",
    "    if direction == 0: # 왼쪽으로 90도 꺾인 후 100픽셀 이동\n",
    "        t.left(90)\n",
    "        t.forward(100)\n",
    "    else: # 오른쪽으로 90도 꺾인 후 50픽셀 이동\n",
    "        t.right(90)\n",
    "        t.forward(50)\n",
    "    count += 1\n"
   ]
  },
  {
   "cell_type": "code",
   "execution_count": null,
   "id": "71f96c75",
   "metadata": {},
   "outputs": [],
   "source": []
  }
 ],
 "metadata": {
  "kernelspec": {
   "display_name": "Python 3 (ipykernel)",
   "language": "python",
   "name": "python3"
  },
  "language_info": {
   "codemirror_mode": {
    "name": "ipython",
    "version": 3
   },
   "file_extension": ".py",
   "mimetype": "text/x-python",
   "name": "python",
   "nbconvert_exporter": "python",
   "pygments_lexer": "ipython3",
   "version": "3.10.9"
  }
 },
 "nbformat": 4,
 "nbformat_minor": 5
}
