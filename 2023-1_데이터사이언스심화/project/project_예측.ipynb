{
 "cells": [
  {
   "cell_type": "code",
   "execution_count": 67,
   "metadata": {},
   "outputs": [],
   "source": [
    "import tensorflow as tf\n",
    "import pandas as pd\n",
    "import numpy as np\n",
    "import seaborn as sns\n",
    "import matplotlib.pyplot as plt"
   ]
  },
  {
   "cell_type": "code",
   "execution_count": 68,
   "metadata": {},
   "outputs": [],
   "source": [
    "# os에 따라 폰트 설정하기\n",
    "import os\n",
    "\n",
    "if os.name == 'nt':\n",
    "    font_family = \"Malgun Gothic\"\n",
    "else:\n",
    "    font_family = \"AppleGothic\"\n",
    "    \n",
    "sns.set(font=font_family, rc={\"axes.unicode_minus\" : False })"
   ]
  },
  {
   "cell_type": "code",
   "execution_count": 69,
   "metadata": {},
   "outputs": [
    {
     "data": {
      "text/plain": [
       "(7665, 62)"
      ]
     },
     "execution_count": 69,
     "metadata": {},
     "output_type": "execute_result"
    }
   ],
   "source": [
    "df = pd.read_csv(\"weather.csv\")\n",
    "df.shape"
   ]
  },
  {
   "cell_type": "code",
   "execution_count": 70,
   "metadata": {},
   "outputs": [
    {
     "data": {
      "text/html": [
       "<div>\n",
       "<style scoped>\n",
       "    .dataframe tbody tr th:only-of-type {\n",
       "        vertical-align: middle;\n",
       "    }\n",
       "\n",
       "    .dataframe tbody tr th {\n",
       "        vertical-align: top;\n",
       "    }\n",
       "\n",
       "    .dataframe thead th {\n",
       "        text-align: right;\n",
       "    }\n",
       "</style>\n",
       "<table border=\"1\" class=\"dataframe\">\n",
       "  <thead>\n",
       "    <tr style=\"text-align: right;\">\n",
       "      <th></th>\n",
       "      <th>지점</th>\n",
       "      <th>지점명</th>\n",
       "      <th>일시</th>\n",
       "      <th>평균기온(°C)</th>\n",
       "      <th>최저기온(°C)</th>\n",
       "      <th>최저기온 시각(hhmi)</th>\n",
       "      <th>최고기온(°C)</th>\n",
       "      <th>최고기온 시각(hhmi)</th>\n",
       "      <th>강수 계속시간(hr)</th>\n",
       "      <th>10분 최다 강수량(mm)</th>\n",
       "      <th>...</th>\n",
       "      <th>1.0m 지중온도(°C)</th>\n",
       "      <th>1.5m 지중온도(°C)</th>\n",
       "      <th>3.0m 지중온도(°C)</th>\n",
       "      <th>5.0m 지중온도(°C)</th>\n",
       "      <th>합계 대형증발량(mm)</th>\n",
       "      <th>합계 소형증발량(mm)</th>\n",
       "      <th>9-9강수(mm)</th>\n",
       "      <th>안개 계속시간(hr)</th>\n",
       "      <th>합계 일조시간(hr)</th>\n",
       "      <th>합계 일사량(MJ/m2)</th>\n",
       "    </tr>\n",
       "  </thead>\n",
       "  <tbody>\n",
       "    <tr>\n",
       "      <th>0</th>\n",
       "      <td>108</td>\n",
       "      <td>서울</td>\n",
       "      <td>2017-01-01</td>\n",
       "      <td>2.7</td>\n",
       "      <td>-1.6</td>\n",
       "      <td>540.0</td>\n",
       "      <td>6.9</td>\n",
       "      <td>1419.0</td>\n",
       "      <td>NaN</td>\n",
       "      <td>NaN</td>\n",
       "      <td>...</td>\n",
       "      <td>7.1</td>\n",
       "      <td>10.2</td>\n",
       "      <td>15.7</td>\n",
       "      <td>17.5</td>\n",
       "      <td>0.7</td>\n",
       "      <td>1.0</td>\n",
       "      <td>0.3</td>\n",
       "      <td>NaN</td>\n",
       "      <td>NaN</td>\n",
       "      <td>NaN</td>\n",
       "    </tr>\n",
       "    <tr>\n",
       "      <th>1</th>\n",
       "      <td>108</td>\n",
       "      <td>서울</td>\n",
       "      <td>2017-01-02</td>\n",
       "      <td>5.0</td>\n",
       "      <td>1.8</td>\n",
       "      <td>2355.0</td>\n",
       "      <td>9.2</td>\n",
       "      <td>1355.0</td>\n",
       "      <td>2.08</td>\n",
       "      <td>NaN</td>\n",
       "      <td>...</td>\n",
       "      <td>7.0</td>\n",
       "      <td>10.1</td>\n",
       "      <td>15.6</td>\n",
       "      <td>17.5</td>\n",
       "      <td>0.9</td>\n",
       "      <td>1.2</td>\n",
       "      <td>NaN</td>\n",
       "      <td>NaN</td>\n",
       "      <td>NaN</td>\n",
       "      <td>NaN</td>\n",
       "    </tr>\n",
       "    <tr>\n",
       "      <th>2</th>\n",
       "      <td>108</td>\n",
       "      <td>서울</td>\n",
       "      <td>2017-01-03</td>\n",
       "      <td>2.0</td>\n",
       "      <td>-2.3</td>\n",
       "      <td>731.0</td>\n",
       "      <td>7.7</td>\n",
       "      <td>1444.0</td>\n",
       "      <td>NaN</td>\n",
       "      <td>NaN</td>\n",
       "      <td>...</td>\n",
       "      <td>6.9</td>\n",
       "      <td>9.9</td>\n",
       "      <td>15.5</td>\n",
       "      <td>17.4</td>\n",
       "      <td>1.3</td>\n",
       "      <td>1.8</td>\n",
       "      <td>NaN</td>\n",
       "      <td>NaN</td>\n",
       "      <td>NaN</td>\n",
       "      <td>NaN</td>\n",
       "    </tr>\n",
       "    <tr>\n",
       "      <th>3</th>\n",
       "      <td>108</td>\n",
       "      <td>서울</td>\n",
       "      <td>2017-01-04</td>\n",
       "      <td>3.9</td>\n",
       "      <td>1.0</td>\n",
       "      <td>1.0</td>\n",
       "      <td>8.9</td>\n",
       "      <td>1519.0</td>\n",
       "      <td>NaN</td>\n",
       "      <td>NaN</td>\n",
       "      <td>...</td>\n",
       "      <td>6.9</td>\n",
       "      <td>9.8</td>\n",
       "      <td>15.4</td>\n",
       "      <td>17.4</td>\n",
       "      <td>1.5</td>\n",
       "      <td>2.2</td>\n",
       "      <td>NaN</td>\n",
       "      <td>NaN</td>\n",
       "      <td>NaN</td>\n",
       "      <td>NaN</td>\n",
       "    </tr>\n",
       "    <tr>\n",
       "      <th>4</th>\n",
       "      <td>108</td>\n",
       "      <td>서울</td>\n",
       "      <td>2017-01-05</td>\n",
       "      <td>3.8</td>\n",
       "      <td>-0.1</td>\n",
       "      <td>316.0</td>\n",
       "      <td>7.3</td>\n",
       "      <td>1444.0</td>\n",
       "      <td>NaN</td>\n",
       "      <td>NaN</td>\n",
       "      <td>...</td>\n",
       "      <td>6.9</td>\n",
       "      <td>9.7</td>\n",
       "      <td>15.4</td>\n",
       "      <td>17.4</td>\n",
       "      <td>1.6</td>\n",
       "      <td>2.3</td>\n",
       "      <td>NaN</td>\n",
       "      <td>NaN</td>\n",
       "      <td>NaN</td>\n",
       "      <td>NaN</td>\n",
       "    </tr>\n",
       "  </tbody>\n",
       "</table>\n",
       "<p>5 rows × 62 columns</p>\n",
       "</div>"
      ],
      "text/plain": [
       "    지점 지점명          일시  평균기온(°C)  최저기온(°C)  최저기온 시각(hhmi)  최고기온(°C)  \\\n",
       "0  108  서울  2017-01-01       2.7      -1.6          540.0       6.9   \n",
       "1  108  서울  2017-01-02       5.0       1.8         2355.0       9.2   \n",
       "2  108  서울  2017-01-03       2.0      -2.3          731.0       7.7   \n",
       "3  108  서울  2017-01-04       3.9       1.0            1.0       8.9   \n",
       "4  108  서울  2017-01-05       3.8      -0.1          316.0       7.3   \n",
       "\n",
       "   최고기온 시각(hhmi)  강수 계속시간(hr)  10분 최다 강수량(mm)  ...  1.0m 지중온도(°C)  \\\n",
       "0         1419.0          NaN             NaN  ...            7.1   \n",
       "1         1355.0         2.08             NaN  ...            7.0   \n",
       "2         1444.0          NaN             NaN  ...            6.9   \n",
       "3         1519.0          NaN             NaN  ...            6.9   \n",
       "4         1444.0          NaN             NaN  ...            6.9   \n",
       "\n",
       "   1.5m 지중온도(°C)  3.0m 지중온도(°C)  5.0m 지중온도(°C)  합계 대형증발량(mm)  합계 소형증발량(mm)  \\\n",
       "0           10.2           15.7           17.5           0.7           1.0   \n",
       "1           10.1           15.6           17.5           0.9           1.2   \n",
       "2            9.9           15.5           17.4           1.3           1.8   \n",
       "3            9.8           15.4           17.4           1.5           2.2   \n",
       "4            9.7           15.4           17.4           1.6           2.3   \n",
       "\n",
       "   9-9강수(mm)  안개 계속시간(hr)  합계 일조시간(hr)  합계 일사량(MJ/m2)  \n",
       "0        0.3          NaN          NaN            NaN  \n",
       "1        NaN          NaN          NaN            NaN  \n",
       "2        NaN          NaN          NaN            NaN  \n",
       "3        NaN          NaN          NaN            NaN  \n",
       "4        NaN          NaN          NaN            NaN  \n",
       "\n",
       "[5 rows x 62 columns]"
      ]
     },
     "execution_count": 70,
     "metadata": {},
     "output_type": "execute_result"
    }
   ],
   "source": [
    "df.head()"
   ]
  },
  {
   "cell_type": "markdown",
   "metadata": {},
   "source": [
    "### 학습, 예측 데이터셋 만들기"
   ]
  },
  {
   "cell_type": "code",
   "execution_count": 71,
   "metadata": {},
   "outputs": [],
   "source": [
    "# 예측할 정답값\n",
    "label_name = '평균기온(°C)'"
   ]
  },
  {
   "cell_type": "code",
   "execution_count": 72,
   "metadata": {},
   "outputs": [],
   "source": [
    "# 결측치를 0값으로 임의로 채움\n",
    "df = df.fillna(0)"
   ]
  },
  {
   "cell_type": "code",
   "execution_count": 73,
   "metadata": {
    "scrolled": true
   },
   "outputs": [
    {
     "data": {
      "text/plain": [
       "['지점',\n",
       " '평균기온(°C)',\n",
       " '최저기온(°C)',\n",
       " '최저기온 시각(hhmi)',\n",
       " '최고기온(°C)',\n",
       " '최고기온 시각(hhmi)',\n",
       " '강수 계속시간(hr)',\n",
       " '10분 최다 강수량(mm)',\n",
       " '10분 최다강수량 시각(hhmi)',\n",
       " '1시간 최다강수량(mm)',\n",
       " '1시간 최다 강수량 시각(hhmi)',\n",
       " '일강수량(mm)',\n",
       " '최대 순간 풍속(m/s)',\n",
       " '최대 순간 풍속 풍향(16방위)',\n",
       " '최대 순간풍속 시각(hhmi)',\n",
       " '최대 풍속(m/s)',\n",
       " '최대 풍속 풍향(16방위)',\n",
       " '최대 풍속 시각(hhmi)',\n",
       " '평균 풍속(m/s)',\n",
       " '풍정합(100m)',\n",
       " '평균 이슬점온도(°C)',\n",
       " '최소 상대습도(%)',\n",
       " '최소 상대습도 시각(hhmi)',\n",
       " '평균 상대습도(%)',\n",
       " '평균 증기압(hPa)',\n",
       " '평균 현지기압(hPa)',\n",
       " '최고 해면기압(hPa)',\n",
       " '최고 해면기압 시각(hhmi)',\n",
       " '최저 해면기압(hPa)',\n",
       " '최저 해면기압 시각(hhmi)',\n",
       " '평균 해면기압(hPa)',\n",
       " '가조시간(hr)',\n",
       " '합계 일조 시간(hr)',\n",
       " '1시간 최다일사 시각(hhmi)',\n",
       " '1시간 최다일사량(MJ/m2)',\n",
       " '합계 일사(MJ/m2)',\n",
       " '일 최심신적설(cm)',\n",
       " '일 최심신적설 시각(hhmi)',\n",
       " '일 최심적설(cm)',\n",
       " '일 최심적설 시각(hhmi)',\n",
       " '합계 3시간 신적설(cm)',\n",
       " '평균 전운량(1/10)',\n",
       " '평균 중하층운량(1/10)',\n",
       " '평균 지면온도(°C)',\n",
       " '최저 초상온도(°C)',\n",
       " '평균 5cm 지중온도(°C)',\n",
       " '평균 10cm 지중온도(°C)',\n",
       " '평균 20cm 지중온도(°C)',\n",
       " '평균 30cm 지중온도(°C)',\n",
       " '0.5m 지중온도(°C)',\n",
       " '1.0m 지중온도(°C)',\n",
       " '1.5m 지중온도(°C)',\n",
       " '3.0m 지중온도(°C)',\n",
       " '5.0m 지중온도(°C)',\n",
       " '합계 대형증발량(mm)',\n",
       " '합계 소형증발량(mm)',\n",
       " '9-9강수(mm)',\n",
       " '안개 계속시간(hr)',\n",
       " '합계 일조시간(hr)',\n",
       " '합계 일사량(MJ/m2)']"
      ]
     },
     "execution_count": 73,
     "metadata": {},
     "output_type": "execute_result"
    }
   ],
   "source": [
    "# 수치데이터만 feature 로 사용\n",
    "num_desc = df.describe()\n",
    "feature_name = num_desc.columns.tolist()\n",
    "feature_name"
   ]
  },
  {
   "cell_type": "code",
   "execution_count": 74,
   "metadata": {},
   "outputs": [
    {
     "data": {
      "text/plain": [
       "((7665, 59), (7665,))"
      ]
     },
     "execution_count": 74,
     "metadata": {},
     "output_type": "execute_result"
    }
   ],
   "source": [
    "# feature와 label 값으로 나눔\n",
    "X = df[feature_name].drop([label_name], axis=1)\n",
    "y = df[label_name]\n",
    "\n",
    "X.shape, y.shape"
   ]
  },
  {
   "cell_type": "code",
   "execution_count": 75,
   "metadata": {},
   "outputs": [],
   "source": [
    "# train, test 세트로 나눔\n",
    "from sklearn.model_selection import train_test_split\n",
    "\n",
    "X_train, X_test, y_train, y_test = train_test_split(\n",
    "    X, y, test_size=0.33, random_state=42)"
   ]
  },
  {
   "cell_type": "code",
   "execution_count": 76,
   "metadata": {},
   "outputs": [
    {
     "name": "stdout",
     "output_type": "stream",
     "text": [
      "2.12.0\n"
     ]
    }
   ],
   "source": [
    "# 텐서플로우 로드\n",
    "import tensorflow as tf\n",
    "from tensorflow import keras\n",
    "from tensorflow.keras import layers\n",
    "\n",
    "print(tf.__version__)"
   ]
  },
  {
   "cell_type": "markdown",
   "metadata": {},
   "source": [
    "### 텐서플로를 통한 평균기온 예측"
   ]
  },
  {
   "cell_type": "code",
   "execution_count": 77,
   "metadata": {},
   "outputs": [],
   "source": [
    "model = keras.Sequential([\n",
    "    layers.Dense(64, activation='swish', input_shape=[X_train.shape[1]]),\n",
    "    layers.Dense(128, activation='swish'),\n",
    "    layers.Dropout(0.2),\n",
    "    layers.Dense(1)\n",
    "])\n",
    "\n",
    "optimizer = tf.keras.optimizers.RMSprop(0.001)\n",
    "\n",
    "model.compile(loss='mse',\n",
    "            optimizer=optimizer,\n",
    "            metrics=['mae', 'mse'])"
   ]
  },
  {
   "cell_type": "code",
   "execution_count": 78,
   "metadata": {},
   "outputs": [
    {
     "name": "stdout",
     "output_type": "stream",
     "text": [
      "Epoch 1/5\n",
      "161/161 [==============================] - 2s 5ms/step - loss: 10258.6973 - mae: 66.8243 - mse: 10258.6973\n",
      "Epoch 2/5\n",
      "161/161 [==============================] - 1s 4ms/step - loss: 244.9153 - mae: 11.4017 - mse: 244.9153\n",
      "Epoch 3/5\n",
      "161/161 [==============================] - 0s 3ms/step - loss: 81.5399 - mae: 7.2171 - mse: 81.5399\n",
      "Epoch 4/5\n",
      "161/161 [==============================] - 1s 3ms/step - loss: 55.3390 - mae: 5.9131 - mse: 55.3390\n",
      "Epoch 5/5\n",
      "161/161 [==============================] - 1s 3ms/step - loss: 41.6195 - mae: 5.1599 - mse: 41.6195\n"
     ]
    },
    {
     "data": {
      "text/plain": [
       "<keras.callbacks.History at 0x22219885540>"
      ]
     },
     "execution_count": 78,
     "metadata": {},
     "output_type": "execute_result"
    }
   ],
   "source": [
    "model.fit(X_train, y_train, epochs=5)"
   ]
  },
  {
   "cell_type": "markdown",
   "metadata": {},
   "source": [
    "### 예측하기"
   ]
  },
  {
   "cell_type": "code",
   "execution_count": 79,
   "metadata": {},
   "outputs": [
    {
     "name": "stdout",
     "output_type": "stream",
     "text": [
      "80/80 [==============================] - 0s 2ms/step\n"
     ]
    },
    {
     "data": {
      "text/plain": [
       "array([[ 9.685562 ],\n",
       "       [13.677121 ],\n",
       "       [12.624794 ],\n",
       "       ...,\n",
       "       [23.833534 ],\n",
       "       [ 7.4977975],\n",
       "       [22.634932 ]], dtype=float32)"
      ]
     },
     "execution_count": 79,
     "metadata": {},
     "output_type": "execute_result"
    }
   ],
   "source": [
    "y_pred = model.predict(X_test)\n",
    "y_pred"
   ]
  },
  {
   "cell_type": "code",
   "execution_count": 80,
   "metadata": {},
   "outputs": [
    {
     "name": "stdout",
     "output_type": "stream",
     "text": [
      "80/80 - 0s - loss: 25.3752 - mae: 4.0465 - mse: 25.3752 - 452ms/epoch - 6ms/step\n"
     ]
    },
    {
     "data": {
      "text/plain": [
       "[25.37517738342285, 4.046520233154297, 25.37517738342285]"
      ]
     },
     "execution_count": 80,
     "metadata": {},
     "output_type": "execute_result"
    }
   ],
   "source": [
    "score = model.evaluate(X_test, y_test, verbose=2)\n",
    "score"
   ]
  },
  {
   "cell_type": "code",
   "execution_count": 81,
   "metadata": {},
   "outputs": [
    {
     "data": {
      "text/plain": [
       "4.046520233154297"
      ]
     },
     "execution_count": 81,
     "metadata": {},
     "output_type": "execute_result"
    }
   ],
   "source": [
    "# MAE(Mean Absolute Error) : 평균 절대 오차\n",
    "MAE = score[1]\n",
    "MAE"
   ]
  },
  {
   "cell_type": "code",
   "execution_count": 82,
   "metadata": {},
   "outputs": [
    {
     "data": {
      "text/plain": [
       "25.37517738342285"
      ]
     },
     "execution_count": 82,
     "metadata": {},
     "output_type": "execute_result"
    }
   ],
   "source": [
    "# MSE(Mean Square Error) : 평균 제곱 오차\n",
    "MSE = score[2]\n",
    "MSE"
   ]
  },
  {
   "cell_type": "code",
   "execution_count": 83,
   "metadata": {
    "scrolled": true
   },
   "outputs": [
    {
     "data": {
      "text/plain": [
       "5.0373780266546255"
      ]
     },
     "execution_count": 83,
     "metadata": {},
     "output_type": "execute_result"
    }
   ],
   "source": [
    "# RMSE(Root Mean Square Error) : 평균 제곱근 오차\n",
    "RMSE = np.sqrt(MSE)\n",
    "RMSE"
   ]
  },
  {
   "cell_type": "code",
   "execution_count": null,
   "metadata": {},
   "outputs": [],
   "source": []
  }
 ],
 "metadata": {
  "kernelspec": {
   "display_name": "Python 3 (ipykernel)",
   "language": "python",
   "name": "python3"
  },
  "language_info": {
   "codemirror_mode": {
    "name": "ipython",
    "version": 3
   },
   "file_extension": ".py",
   "mimetype": "text/x-python",
   "name": "python",
   "nbconvert_exporter": "python",
   "pygments_lexer": "ipython3",
   "version": "3.10.9"
  },
  "varInspector": {
   "cols": {
    "lenName": 16,
    "lenType": 16,
    "lenVar": 40
   },
   "kernels_config": {
    "python": {
     "delete_cmd_postfix": "",
     "delete_cmd_prefix": "del ",
     "library": "var_list.py",
     "varRefreshCmd": "print(var_dic_list())"
    },
    "r": {
     "delete_cmd_postfix": ") ",
     "delete_cmd_prefix": "rm(",
     "library": "var_list.r",
     "varRefreshCmd": "cat(var_dic_list()) "
    }
   },
   "types_to_exclude": [
    "module",
    "function",
    "builtin_function_or_method",
    "instance",
    "_Feature"
   ],
   "window_display": false
  }
 },
 "nbformat": 4,
 "nbformat_minor": 4
}
