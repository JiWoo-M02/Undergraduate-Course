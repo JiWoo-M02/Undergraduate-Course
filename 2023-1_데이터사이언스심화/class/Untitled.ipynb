{
 "cells": [
  {
   "cell_type": "code",
   "execution_count": 1,
   "id": "9b1869e3",
   "metadata": {},
   "outputs": [],
   "source": [
    "phone_book = { }  "
   ]
  },
  {
   "cell_type": "code",
   "execution_count": 2,
   "id": "39835f1f",
   "metadata": {},
   "outputs": [],
   "source": [
    "phone_book[\"홍길동\"] = \"010-1234-5678\""
   ]
  },
  {
   "cell_type": "code",
   "execution_count": 3,
   "id": "736f93b5",
   "metadata": {},
   "outputs": [
    {
     "name": "stdout",
     "output_type": "stream",
     "text": [
      "{'홍길동': '010-1234-5678'}\n"
     ]
    }
   ],
   "source": [
    "print(phone_book)"
   ]
  },
  {
   "cell_type": "code",
   "execution_count": 4,
   "id": "952ce994",
   "metadata": {},
   "outputs": [],
   "source": [
    "phone_book = {\"홍길동\": \"010-1234-5678\"}"
   ]
  },
  {
   "cell_type": "code",
   "execution_count": 5,
   "id": "424931ab",
   "metadata": {},
   "outputs": [
    {
     "name": "stdout",
     "output_type": "stream",
     "text": [
      "{'홍길동': '010-1234-5678', '강감찬': '010-1234-5679', '이순신': '010-1234-5680'}\n"
     ]
    }
   ],
   "source": [
    "phone_book[\"강감찬\"] = \"010-1234-5679\"\n",
    "phone_book[\"이순신\"] = \"010-1234-5680\"\n",
    "print(phone_book)"
   ]
  },
  {
   "cell_type": "code",
   "execution_count": 6,
   "id": "03b02485",
   "metadata": {},
   "outputs": [
    {
     "name": "stdout",
     "output_type": "stream",
     "text": [
      "홍길동\n",
      "7\n"
     ]
    }
   ],
   "source": [
    "person_dic = {'Name': '홍길동', 'Age': 7, 'Class': '초급'} \n",
    " \n",
    "print(person_dic['Name']) \n",
    "print(person_dic['Age']) "
   ]
  },
  {
   "cell_type": "code",
   "execution_count": 7,
   "id": "0aa25837",
   "metadata": {},
   "outputs": [
    {
     "name": "stdout",
     "output_type": "stream",
     "text": [
      "010-1234-5679\n"
     ]
    }
   ],
   "source": [
    "print(phone_book[\"강감찬\"])"
   ]
  },
  {
   "cell_type": "code",
   "execution_count": 8,
   "id": "1c30af76",
   "metadata": {},
   "outputs": [
    {
     "data": {
      "text/plain": [
       "dict_keys(['홍길동', '강감찬', '이순신'])"
      ]
     },
     "execution_count": 8,
     "metadata": {},
     "output_type": "execute_result"
    }
   ],
   "source": [
    "phone_book.keys()"
   ]
  },
  {
   "cell_type": "code",
   "execution_count": 9,
   "id": "e21da084",
   "metadata": {},
   "outputs": [
    {
     "data": {
      "text/plain": [
       "dict_values(['010-1234-5678', '010-1234-5679', '010-1234-5680'])"
      ]
     },
     "execution_count": 9,
     "metadata": {},
     "output_type": "execute_result"
    }
   ],
   "source": [
    "phone_book.values()"
   ]
  },
  {
   "cell_type": "code",
   "execution_count": 10,
   "id": "58b367a0",
   "metadata": {},
   "outputs": [
    {
     "data": {
      "text/plain": [
       "dict_items([('홍길동', '010-1234-5678'), ('강감찬', '010-1234-5679'), ('이순신', '010-1234-5680')])"
      ]
     },
     "execution_count": 10,
     "metadata": {},
     "output_type": "execute_result"
    }
   ],
   "source": [
    "phone_book.items() "
   ]
  },
  {
   "cell_type": "code",
   "execution_count": 11,
   "id": "8b7a737e",
   "metadata": {},
   "outputs": [
    {
     "name": "stdout",
     "output_type": "stream",
     "text": [
      "홍길동 : 010-1234-5678\n",
      "강감찬 : 010-1234-5679\n",
      "이순신 : 010-1234-5680\n"
     ]
    }
   ],
   "source": [
    "for name, phone_num in phone_book.items():\n",
    "  print(name,':', phone_num)"
   ]
  },
  {
   "cell_type": "code",
   "execution_count": 12,
   "id": "af23fa95",
   "metadata": {},
   "outputs": [
    {
     "name": "stdout",
     "output_type": "stream",
     "text": [
      "사전 프로그램 시작... 종료는 q를 입력\n",
      "$ A\n",
      "입력 오류가 발생했습니다.\n",
      "$ a\n",
      "입력 오류가 발생했습니다.\n",
      "$ d\n",
      "입력 오류가 발생했습니다.\n",
      "$ one\n",
      "입력 오류가 발생했습니다.\n",
      "$ one : 일\n",
      "입력 오류가 발생했습니다.\n",
      "$ q\n",
      "사전 프로그램을 종료합니다.\n"
     ]
    }
   ],
   "source": [
    "print(\"사전 프로그램 시작... 종료는 q를 입력\")\n",
    "dictionary = {}\n",
    "\n",
    "while True:\n",
    "    st = input('$ ')\n",
    "    command = st[0]     # 첫 입력 문자를 추출한다\n",
    "    if command == '<':\n",
    "        st = st[1:]\n",
    "        inputStr = st.split(':')\n",
    "        if len(inputStr) < 2 :\n",
    "            print('입력 오류가 발생했습니다.')\n",
    "        else:\n",
    "            dictionary[inputStr[0].strip()] = inputStr[1].strip()\n",
    "    elif command == '>':\n",
    "        st = st[1:]\n",
    "        inputStr = st.strip()\n",
    "        if inputStr in dictionary:\n",
    "            print(dictionary[inputStr])\n",
    "        else :\n",
    "            print('{}가 사전에 없습니다.'.format(inputStr))\n",
    "    elif command == 'q':\n",
    "       break\n",
    "    else :\n",
    "        print('입력 오류가 발생했습니다.')\n",
    "\n",
    "print(\"사전 프로그램을 종료합니다.\")"
   ]
  },
  {
   "cell_type": "code",
   "execution_count": 13,
   "id": "66df978c",
   "metadata": {},
   "outputs": [
    {
     "name": "stdout",
     "output_type": "stream",
     "text": [
      "48 의 진약수 : {2, 3, 4, 6, 8, 12, 16, 24}\n",
      "60 의 진약수 : {2, 3, 4, 5, 6, 10, 12, 15, 20, 30}\n"
     ]
    }
   ],
   "source": [
    "def get_divisors(num):\n",
    "  divisors = set()\n",
    "  for i in range(2, num):\n",
    "    if num % i == 0:\n",
    "      divisors.add(i)\n",
    "  return divisors\n",
    "\n",
    "x = 48\n",
    "print(x,'의 진약수 :', get_divisors(x))\n",
    "y = 60\n",
    "print(y,'의 진약수 :', get_divisors(y))"
   ]
  },
  {
   "cell_type": "code",
   "execution_count": 14,
   "id": "1faef6da",
   "metadata": {},
   "outputs": [
    {
     "name": "stdout",
     "output_type": "stream",
     "text": [
      "사전 프로그램 시작... 종료는 q를 입력\n",
      "$ <ㅐㅜㄷ\n",
      "입력 오류가 발생했습니다.\n",
      "$ <one\n",
      "입력 오류가 발생했습니다.\n",
      "$ < one:하나\n",
      "$ one\n",
      "입력 오류가 발생했습니다.\n",
      "$ > one\n",
      "하나\n",
      "$ Q\n",
      "입력 오류가 발생했습니다.\n",
      "$ q\n",
      "사전 프로그램을 종료합니다.\n"
     ]
    }
   ],
   "source": [
    "print(\"사전 프로그램 시작... 종료는 q를 입력\")\n",
    "dictionary = {}\n",
    "\n",
    "while True:\n",
    "    st = input('$ ')\n",
    "    command = st[0]     # 첫 입력 문자를 추출한다\n",
    "    if command == '<':\n",
    "        st = st[1:]\n",
    "        inputStr = st.split(':')\n",
    "        if len(inputStr) < 2 :\n",
    "            print('입력 오류가 발생했습니다.')\n",
    "        else:\n",
    "            dictionary[inputStr[0].strip()] = inputStr[1].strip()\n",
    "    elif command == '>':\n",
    "        st = st[1:]\n",
    "        inputStr = st.strip()\n",
    "        if inputStr in dictionary:\n",
    "            print(dictionary[inputStr])\n",
    "        else :\n",
    "            print('{}가 사전에 없습니다.'.format(inputStr))\n",
    "    elif command == 'q':\n",
    "       break\n",
    "    else :\n",
    "        print('입력 오류가 발생했습니다.')\n",
    "\n",
    "print(\"사전 프로그램을 종료합니다.\")"
   ]
  },
  {
   "cell_type": "code",
   "execution_count": 15,
   "id": "76ddba7e",
   "metadata": {},
   "outputs": [
    {
     "name": "stdout",
     "output_type": "stream",
     "text": [
      "{2, 3, 4, 6, 12}\n"
     ]
    }
   ],
   "source": [
    "A = get_divisors(x)\n",
    "B = get_divisors(y)\n",
    "\n",
    "print(A.intersection(B))"
   ]
  },
  {
   "cell_type": "code",
   "execution_count": null,
   "id": "619fb8aa",
   "metadata": {},
   "outputs": [],
   "source": []
  }
 ],
 "metadata": {
  "kernelspec": {
   "display_name": "Python 3 (ipykernel)",
   "language": "python",
   "name": "python3"
  },
  "language_info": {
   "codemirror_mode": {
    "name": "ipython",
    "version": 3
   },
   "file_extension": ".py",
   "mimetype": "text/x-python",
   "name": "python",
   "nbconvert_exporter": "python",
   "pygments_lexer": "ipython3",
   "version": "3.10.9"
  }
 },
 "nbformat": 4,
 "nbformat_minor": 5
}
