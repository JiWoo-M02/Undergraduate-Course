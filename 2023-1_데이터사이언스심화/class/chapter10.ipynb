{
 "cells": [
  {
   "cell_type": "code",
   "execution_count": 1,
   "id": "167a813b",
   "metadata": {},
   "outputs": [],
   "source": [
    "mid_scores = [10, 20, 30]   \n",
    "final_scores = [70, 80, 90]"
   ]
  },
  {
   "cell_type": "code",
   "execution_count": 2,
   "id": "2be67c36",
   "metadata": {},
   "outputs": [
    {
     "data": {
      "text/plain": [
       "[10, 20, 30, 70, 80, 90]"
      ]
     },
     "execution_count": 2,
     "metadata": {},
     "output_type": "execute_result"
    }
   ],
   "source": [
    "total = mid_scores + final_scores \n",
    "total"
   ]
  },
  {
   "cell_type": "code",
   "execution_count": 4,
   "id": "19a41e48",
   "metadata": {},
   "outputs": [
    {
     "name": "stdout",
     "output_type": "stream",
     "text": [
      "시험성적의 합계 : [ 70  90 110]\n",
      "시험성적의 평균 : [35. 45. 55.]\n"
     ]
    }
   ],
   "source": [
    "import numpy as np  \n",
    "\n",
    "mid_scores = np.array([10, 20, 30])\n",
    "final_scores = np.array([60, 70, 80])\n",
    "\n",
    "total = mid_scores + final_scores\n",
    "print('시험성적 합 :', total) \n",
    "print('시험성적 평균 :', total/2) "
   ]
  },
  {
   "cell_type": "code",
   "execution_count": 6,
   "id": "156ac011",
   "metadata": {},
   "outputs": [
    {
     "data": {
      "text/plain": [
       "(3,)"
      ]
     },
     "execution_count": 6,
     "metadata": {},
     "output_type": "execute_result"
    }
   ],
   "source": [
    "import numpy as np\n",
    "a = np.array([1, 2, 3])    \n",
    "a.shape "
   ]
  },
  {
   "cell_type": "code",
   "execution_count": 7,
   "id": "6204387d",
   "metadata": {},
   "outputs": [
    {
     "data": {
      "text/plain": [
       "1"
      ]
     },
     "execution_count": 7,
     "metadata": {},
     "output_type": "execute_result"
    }
   ],
   "source": [
    "a.ndim"
   ]
  },
  {
   "cell_type": "code",
   "execution_count": 8,
   "id": "509a90f2",
   "metadata": {},
   "outputs": [
    {
     "data": {
      "text/plain": [
       "dtype('int32')"
      ]
     },
     "execution_count": 8,
     "metadata": {},
     "output_type": "execute_result"
    }
   ],
   "source": [
    "a.dtype"
   ]
  },
  {
   "cell_type": "code",
   "execution_count": 9,
   "id": "07288429",
   "metadata": {},
   "outputs": [
    {
     "data": {
      "text/plain": [
       "4"
      ]
     },
     "execution_count": 9,
     "metadata": {},
     "output_type": "execute_result"
    }
   ],
   "source": [
    "a.itemsize"
   ]
  },
  {
   "cell_type": "code",
   "execution_count": 10,
   "id": "31b5d3dd",
   "metadata": {},
   "outputs": [
    {
     "data": {
      "text/plain": [
       "3"
      ]
     },
     "execution_count": 10,
     "metadata": {},
     "output_type": "execute_result"
    }
   ],
   "source": [
    "a.size"
   ]
  },
  {
   "cell_type": "code",
   "execution_count": 12,
   "id": "be26a9d5",
   "metadata": {},
   "outputs": [
    {
     "name": "stdout",
     "output_type": "stream",
     "text": [
      "1번 : array_a = [0 1 2 3 4 5 6 7 8 9]\n",
      "2번 : array_b = [0 1 2 3 4 5 6 7 8 9]\n",
      "3번 : array_c = [0 2 4 6 8]\n",
      "\n",
      "4번 : \n",
      "array_c의 shape : (5,)\n",
      "array_c의 ndim : 1\n",
      "array_c의 ctype : int32\n",
      "array_c의 size : 5\n",
      "array_c의 itemsize : 4\n"
     ]
    }
   ],
   "source": [
    "import numpy as np\n",
    "\n",
    "array_a = np.array([0, 1, 2, 3, 4, 5, 6, 7, 8, 9])\n",
    "print('1번 : array_a =', array_a)\n",
    "\n",
    "array_b = np.array(range(10))\n",
    "print('2번 : array_b =', array_b)\n",
    "\n",
    "array_c = np.array(range(0,10,2))\n",
    "print('3번 : array_c =', array_c)\n",
    "\n",
    "print('\\n4번 : ')\n",
    "print('array_c의 shape :', array_c.shape)\n",
    "print('array_c의 ndim :', array_c.ndim)\n",
    "print('array_c의 ctype :', array_c.dtype)\n",
    "print('array_c의 size :', array_c.size)\n",
    "print('array_c의 itemsize :',array_c.itemsize)"
   ]
  },
  {
   "cell_type": "code",
   "execution_count": 13,
   "id": "1e74c5ab",
   "metadata": {},
   "outputs": [
    {
     "name": "stdout",
     "output_type": "stream",
     "text": [
      "[320 350 330]\n"
     ]
    }
   ],
   "source": [
    "import numpy as np\n",
    "salary = np.array([220, 250, 230])\n",
    "\n",
    "salary = salary + 100\n",
    "print(salary)"
   ]
  },
  {
   "cell_type": "code",
   "execution_count": 14,
   "id": "df94796b",
   "metadata": {},
   "outputs": [
    {
     "name": "stdout",
     "output_type": "stream",
     "text": [
      "[440 500 460]\n"
     ]
    }
   ],
   "source": [
    "salary = np.array([220, 250, 230])\n",
    "salary = salary * 2\n",
    "print(salary)"
   ]
  },
  {
   "cell_type": "code",
   "execution_count": 15,
   "id": "243e48ed",
   "metadata": {},
   "outputs": [
    {
     "name": "stdout",
     "output_type": "stream",
     "text": [
      "[462. 525. 483.]\n"
     ]
    }
   ],
   "source": [
    "salary = np.array([220, 250, 230]) \n",
    "salary = salary * 2.1 \n",
    "print(salary)"
   ]
  },
  {
   "cell_type": "code",
   "execution_count": 16,
   "id": "d7e08549",
   "metadata": {},
   "outputs": [
    {
     "name": "stdout",
     "output_type": "stream",
     "text": [
      "['100' 'test' '3.0' 'False']\n"
     ]
    }
   ],
   "source": [
    "tangled = np.array([ 100, 'test', 3.0, False])\n",
    "print(tangled)"
   ]
  },
  {
   "cell_type": "code",
   "execution_count": 17,
   "id": "e3b2b491",
   "metadata": {},
   "outputs": [
    {
     "name": "stdout",
     "output_type": "stream",
     "text": [
      "[25.68007405 23.88946281 20.65754    27.45982194 25.53544639 22.72043837]\n"
     ]
    }
   ],
   "source": [
    "import numpy as np\n",
    "\n",
    "heights = [ 1.83, 1.76, 1.69, 1.86, 1.77, 1.73 ]\n",
    "weights = [ 86,    74,    59,   95,    80,   68  ]\n",
    "\n",
    "np_heights = np.array(heights)\n",
    "np_weights = np.array(weights)\n",
    "\n",
    "bmi = np_weights/(np_heights**2)\n",
    "print(bmi)"
   ]
  },
  {
   "cell_type": "code",
   "execution_count": 18,
   "id": "9f215fbb",
   "metadata": {},
   "outputs": [
    {
     "name": "stdout",
     "output_type": "stream",
     "text": [
      "[[1 2 3 4]]\n",
      "[[ 1  3]\n",
      " [ 9 11]]\n"
     ]
    }
   ],
   "source": [
    "np_array = np.array([[ 1,  2,  3,  4], \n",
    "                     [ 5,  6,  7,  8], \n",
    "                     [ 9, 10, 11, 12], \n",
    "                     [13, 14, 15, 16]]) \n",
    "print(np_array[::2][::2])\n",
    "print(np_array[::2,::2]) "
   ]
  },
  {
   "cell_type": "code",
   "execution_count": 19,
   "id": "4d409622",
   "metadata": {},
   "outputs": [
    {
     "name": "stdout",
     "output_type": "stream",
     "text": [
      "신장 평균값: 175.79485041693061\n",
      "신장 중앙값: 176.15221669711627\n",
      "체중 평균값: 69.74317086871659\n",
      "체중 중앙값: 70.65587847287146\n",
      "나이 평균값: 22.62\n",
      "나이 중앙값: 22.0\n"
     ]
    }
   ],
   "source": [
    "import numpy as np \n",
    " \n",
    "players = np.zeros( (100, 3) ) \n",
    "players[:, 0] = 10 * np.random.randn(100) + 175 \n",
    "players[:, 1] = 10 * np.random.randn(100) + 70\n",
    "players[:, 2] = np.floor(10 * np.random.randn(100)) + 22\n",
    "\n",
    "heights = players[:, 0] \n",
    "print('신장 평균값:', np.mean(heights))\n",
    "print('신장 중앙값:', np.median(heights))\n",
    "\n",
    "weights = players[:, 1] \n",
    "print('체중 평균값:', np.mean(weights))\n",
    "print('체중 중앙값:', np.median(weights))\n",
    "\n",
    "ages = players[:, 2] \n",
    "print('나이 평균값:', np.mean(ages))\n",
    "print('나이 중앙값:', np.median(ages))"
   ]
  },
  {
   "cell_type": "code",
   "execution_count": null,
   "id": "ca4a24d3",
   "metadata": {},
   "outputs": [],
   "source": []
  }
 ],
 "metadata": {
  "kernelspec": {
   "display_name": "Python 3 (ipykernel)",
   "language": "python",
   "name": "python3"
  },
  "language_info": {
   "codemirror_mode": {
    "name": "ipython",
    "version": 3
   },
   "file_extension": ".py",
   "mimetype": "text/x-python",
   "name": "python",
   "nbconvert_exporter": "python",
   "pygments_lexer": "ipython3",
   "version": "3.10.9"
  }
 },
 "nbformat": 4,
 "nbformat_minor": 5
}
