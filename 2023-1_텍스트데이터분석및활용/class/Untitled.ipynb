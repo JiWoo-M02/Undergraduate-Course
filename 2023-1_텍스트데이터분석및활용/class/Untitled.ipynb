{
 "cells": [
  {
   "cell_type": "code",
   "execution_count": 16,
   "id": "01c5a58e",
   "metadata": {},
   "outputs": [
    {
     "name": "stdout",
     "output_type": "stream",
     "text": [
      "https://n.news.naver.com/mnews/article/032/0003215566?sid=103\n",
      "https://n.news.naver.com/mnews/article/015/0004829167?sid=103\n",
      "https://n.news.naver.com/mnews/article/005/0001599114?sid=103\n",
      "https://n.news.naver.com/mnews/article/056/0011459970?sid=103\n",
      "https://n.news.naver.com/mnews/article/082/0001206027?sid=103\n"
     ]
    }
   ],
   "source": [
    "%matplotlib inline\n",
    "\n",
    "import pandas as pd\n",
    "import numpy as np\n",
    "import matplotlib.pyplot as plt\n",
    "\n",
    "import warnings\n",
    "warnings.filterwarnings(\"ignore\")\n",
    "\n",
    "from selenium import webdriver\n",
    "from bs4 import BeautifulSoup\n",
    "import re\n",
    "\n",
    "# 윈도우용 크롬 웹드라이버 실행 경로 (Windows)\n",
    "window_path = \"C:\\\\Users\\\\A\\\\Documents\\\\Untitled Folder\\\\chromedriver_win32.exe\"\n",
    "\n",
    "# 크롤링할 사이트 주소를 입력합니다.\n",
    "source_url = \"https://news.naver.com/main/main.naver?mode=LSD&mid=shm&sid1=103\"\n",
    "\n",
    "# 사이트의 html 구조에 기반하여 크롤링을 수행합니다.\n",
    "driver = webdriver.Chrome(window_path)\n",
    "driver.get(source_url)\n",
    "req = driver.page_source\n",
    "soup = BeautifulSoup(req, \"html.parser\")\n",
    "cluster_text = soup.find_all(name=\"div\", attrs={\"class\":\"cluster_text\"})\n",
    "\n",
    "page_urls = []\n",
    "for index in range(0, len(cluster_text)):\n",
    "    cluster = cluster_text[index]\n",
    "    news_url = cluster.find(name=\"a\", attrs={\"class\":\"cluster_text_headline nclicks(cls_lif.clsart)\"})\n",
    "    if news_url is not None:\n",
    "        page_urls.append(news_url.get(\"href\"))\n",
    "\n",
    "# 중복 url을 제거합니다.\n",
    "page_urls = list(set(page_urls))\n",
    "\n",
    "# 다섯 개의 페이지를 출력합니다.\n",
    "for page in page_urls[:5]:\n",
    "    print(page)\n",
    "\n",
    "# 크롤링에 사용한 브라우저를 종료합니다.\n",
    "driver.close()"
   ]
  },
  {
   "cell_type": "code",
   "execution_count": 31,
   "id": "6a319d19",
   "metadata": {},
   "outputs": [
    {
     "name": "stdout",
     "output_type": "stream",
     "text": [
      "바람 타고 온 ‘단비’, 호남 해갈엔 역부족\n",
      "\n",
      "\n",
      "\n",
      "\n",
      "전라·경상권 100㎜ 이상 내려땅 적실 수준, 농작물엔 도움6일 전국 대부분 강풍 예보5일 밤까지 전국 대부분 지역에 비가 내리고, 6일에도 곳에 따라 비가 조금 내릴 것으로 보인다. 제주지역에서는 강한 돌풍이 불면서 항공편이 잇따라 결항됐다. 이번 비는 광주와 전남, 전북 지역 땅을 적실 정도로 내리면서 농작물에 큰 도움이 됐다. 하지만 ‘식수난’을 걱정하고 있는 광주와 전남지역 상수원을 채우기에는 역부족이다.기상청은 5일 밤까지 중부지방(강원 동해안 제외)과 전북 동부, 경상권에 비가 내리는 곳이 있겠고, 6일은 중부지방과 경북 북부에 새벽부터 오후 사이 비가 조금 내릴 것으로 예보했다. 강원도와 충청권 남부에는 비가 6일 저녁까지 이어지는 곳이 있겠고, 남부지방과 제주도에도 6일 밤 한때 비가 내리는 곳이 있을 것으로 전망된다.4일 오전 9시부터 5일 오후 4시까지 주요 지점의 강수량은 서울 56.7㎜, 인천 강화 76.4㎜, 강원 춘천시 남이섬 62.5㎜ 등이다. 전라권과 경상권에서는 진도 126.0㎜, 완도 123.9㎜, 시천(산청) 120.0㎜, 하동 102.0㎜ 등의 비가 내렸다. 제주도 산지에서는 삼각봉 453.0㎜, 영실 420.0㎜ 등 많은 강수량이 기록됐다. 5일 오후부터 6일까지 예상 강수량은 경남권에 5~40㎜, 그 밖의 전국에 5㎜ 안팎이다.한국수자원공사 영산강·섬진강유역본부는 “당초 예보보다 강수량이 적어 아쉽다. 저수율이 오르긴 하겠지만 1주일 정도 지켜봐야 한다”고 설명했다. 전북 익산에서 수박과 상추를 재배하는 김구태씨(59)는 “해갈에 흡족할 정도는 아니지만 비닐하우스 밭고랑에 물이 고이고 있다”며 “조금만 더 내려주면 농사에 큰 차질은 없을 것”이라며 반가워했다.기상청은 6일 오전까지 전국 대부분 지역에서 바람이 순간풍속 시속 55~70㎞(초속 15~20m)로 강하게 부는 곳이 많겠다고 예보했다. 강풍특보가 발효된 남해안과 경상권 동해안, 경북 북동 산지에는 순간풍속 시속 70㎞(초속 20m) 이상으로 매우 강하게 부는 곳도 있을 것으로 보인다. 5일 제주공항에서는 돌풍(급변풍)이 불면서 오후 3시를 기준으로 국내선 항공편 219편이 결항됐다.6일 아침 기온은 평년(최저기온 1~8도, 최고기온 14~19도)보다 높겠지만 비가 그친 뒤 북서쪽에서 찬 공기가 남하하면서 7일 아침 기온은 6일보다 2~7도가량 낮아져 쌀쌀할 것으로 예상된다. 내륙을 중심으로는 서리가 내리는 곳도 있을 것으로 보인다.\n",
      "\t\t\n",
      "\n"
     ]
    }
   ],
   "source": [
    "driver = webdriver.Chrome(window_path) \n",
    "driver.get(page_urls[0])\n",
    "req = driver.page_source\n",
    "soup = BeautifulSoup(req, 'html.parser')\n",
    "title_area = soup.find(name=\"div\", attrs={\"class\":\"media_end_head_title\"})\n",
    "title = title_area.find_all('h2')[0]\n",
    "content_paragraphs = soup.find(name=\"div\", attrs={\"class\":\"newsct_article\"})\n",
    "content_corpus = content_paragraphs.text\n",
    "\n",
    "print(title.text)\n",
    "print(\"\\n\")\n",
    "print(content_corpus)\n",
    "\n",
    "# 크롤링에 사용한 브라우저를 종료합니다.\n",
    "driver.close()"
   ]
  },
  {
   "cell_type": "code",
   "execution_count": 32,
   "id": "8fd1d94a",
   "metadata": {},
   "outputs": [
    {
     "name": "stdout",
     "output_type": "stream",
     "text": [
      "전라경상권  이상 내려땅 적실 수준 농작물엔 도움일 전국 대부분 강풍 예보일 밤까지 전국 대부분 지역에 비가 내리고 일에도 곳에 따라 비가 조금 내릴 것으로 보인다 제주지역에서는 강한 돌풍이 불면서 항공편이 잇따라 결항됐다 이번 비는 광주와 전남 전북 지역 땅을 적실 정도로 내리면서 농작물에 큰 도움이 됐다 하지만 식수난을 걱정하고 있는 광주와 전남지역 상수원을 채우기에는 역부족이다기상청은 일 밤까지 중부지방강원 동해안 제외과 전북 동부 경상권에 비가 내리는 곳이 있겠고 일은 중부지방과 경북 북부에 새벽부터 오후 사이 비가 조금 내릴 것으로 예보했다 강원도와 충청권 남부에는 비가 일 저녁까지 이어지는 곳이 있겠고 남부지방과 제주도에도 일 밤 한때 비가 내리는 곳이 있을 것으로 전망된다일 오전 시부터 일 오후 시까지 주요 지점의 강수량은 서울  인천 강화  강원 춘천시 남이섬  등이다 전라권과 경상권에서는 진도  완도  시천산청  하동  등의 비가 내렸다 제주도 산지에서는 삼각봉  영실  등 많은 강수량이 기록됐다 일 오후부터 일까지 예상 강수량은 경남권에  그 밖의 전국에  안팎이다한국수자원공사 영산강섬진강유역본부는 당초 예보보다 강수량이 적어 아쉽다 저수율이 오르긴 하겠지만 주일 정도 지켜봐야 한다고 설명했다 전북 익산에서 수박과 상추를 재배하는 김구태씨는 해갈에 흡족할 정도는 아니지만 비닐하우스 밭고랑에 물이 고이고 있다며 조금만 더 내려주면 농사에 큰 차질은 없을 것이라며 반가워했다기상청은 일 오전까지 전국 대부분 지역에서 바람이 순간풍속 시속 초속 로 강하게 부는 곳이 많겠다고 예보했다 강풍특보가 발효된 남해안과 경상권 동해안 경북 북동 산지에는 순간풍속 시속 초속  이상으로 매우 강하게 부는 곳도 있을 것으로 보인다 일 제주공항에서는 돌풍급변풍이 불면서 오후 시를 기준으로 국내선 항공편 편이 결항됐다일 아침 기온은 평년최저기온 도 최고기온 도보다 높겠지만 비가 그친 뒤 북서쪽에서 찬 공기가 남하하면서 일 아침 기온은 일보다 도가량 낮아져 쌀쌀할 것으로 예상된다 내륙을 중심으로는 서리가 내리는 곳도 있을 것으로 보인다\n"
     ]
    }
   ],
   "source": [
    "# 텍스트 정제 함수: 한글 이외의 문자는 전부 제거 한다.\n",
    "def text_cleaning(text):\n",
    "    hangul = re.compile('[^ ㄱ-ㅣ 가-힣]+') #한글의 정규표현식을 나타낸다.\n",
    "    result = hangul.sub('',text)\n",
    "    return result\n",
    "print(text_cleaning(df['content_text'][0]))"
   ]
  },
  {
   "cell_type": "code",
   "execution_count": 34,
   "id": "8625430b",
   "metadata": {},
   "outputs": [],
   "source": [
    "# 각 피처마다 데이터 전처리를 적용한다.\n",
    "df['title'] = df['title'].apply(lambda x: text_cleaning(x))\n",
    "df['content_text'] = df['content_text'].apply(lambda x: text_cleaning(x))"
   ]
  },
  {
   "cell_type": "code",
   "execution_count": 35,
   "id": "0032f4be",
   "metadata": {},
   "outputs": [
    {
     "data": {
      "text/html": [
       "<div>\n",
       "<style scoped>\n",
       "    .dataframe tbody tr th:only-of-type {\n",
       "        vertical-align: middle;\n",
       "    }\n",
       "\n",
       "    .dataframe tbody tr th {\n",
       "        vertical-align: top;\n",
       "    }\n",
       "\n",
       "    .dataframe thead th {\n",
       "        text-align: right;\n",
       "    }\n",
       "</style>\n",
       "<table border=\"1\" class=\"dataframe\">\n",
       "  <thead>\n",
       "    <tr style=\"text-align: right;\">\n",
       "      <th></th>\n",
       "      <th>title</th>\n",
       "      <th>content_text</th>\n",
       "    </tr>\n",
       "  </thead>\n",
       "  <tbody>\n",
       "    <tr>\n",
       "      <th>0</th>\n",
       "      <td>바람 타고 온 단비 호남 해갈엔 역부족</td>\n",
       "      <td>전라경상권  이상 내려땅 적실 수준 농작물엔 도움일 전국 대부분 강풍 예보일 밤까지...</td>\n",
       "    </tr>\n",
       "    <tr>\n",
       "      <th>1</th>\n",
       "      <td>발레리나 강수진이란 이름 대신 국립발레단이 더 빛나게 하겠다</td>\n",
       "      <td>연임한 강수진 단장고유 레퍼토리로 해외 본격 진출유럽 개국과 북미 등 투어 계획저는...</td>\n",
       "    </tr>\n",
       "    <tr>\n",
       "      <th>2</th>\n",
       "      <td>년 월 일 제물포항에 첫발 디딘 손님  한국 개신교 역사 썼다</td>\n",
       "      <td>대한민국 복음의 첫관문을 가다 상 복음의 첫 상륙지 인천인천 중구에 있는 한국기독교...</td>\n",
       "    </tr>\n",
       "    <tr>\n",
       "      <th>3</th>\n",
       "      <td>전국 곳곳에 비강한 바람 주의</td>\n",
       "      <td>오늘은 전국이 흐린 가운데 대부분 지역에 강한 바람과 함께 비가 오겠습니다 예상 강...</td>\n",
       "    </tr>\n",
       "    <tr>\n",
       "      <th>4</th>\n",
       "      <td>안준영  재입사 비판에 사과후속 조치는 없어</td>\n",
       "      <td>오디션 방송 순위 조작으로 실형재입사 알려져 비판 잇따르자 사과서울 마포구 상암동 ...</td>\n",
       "    </tr>\n",
       "  </tbody>\n",
       "</table>\n",
       "</div>"
      ],
      "text/plain": [
       "                                title  \\\n",
       "0               바람 타고 온 단비 호남 해갈엔 역부족   \n",
       "1   발레리나 강수진이란 이름 대신 국립발레단이 더 빛나게 하겠다   \n",
       "2  년 월 일 제물포항에 첫발 디딘 손님  한국 개신교 역사 썼다   \n",
       "3                    전국 곳곳에 비강한 바람 주의   \n",
       "4            안준영  재입사 비판에 사과후속 조치는 없어   \n",
       "\n",
       "                                        content_text  \n",
       "0  전라경상권  이상 내려땅 적실 수준 농작물엔 도움일 전국 대부분 강풍 예보일 밤까지...  \n",
       "1  연임한 강수진 단장고유 레퍼토리로 해외 본격 진출유럽 개국과 북미 등 투어 계획저는...  \n",
       "2  대한민국 복음의 첫관문을 가다 상 복음의 첫 상륙지 인천인천 중구에 있는 한국기독교...  \n",
       "3  오늘은 전국이 흐린 가운데 대부분 지역에 강한 바람과 함께 비가 오겠습니다 예상 강...  \n",
       "4  오디션 방송 순위 조작으로 실형재입사 알려져 비판 잇따르자 사과서울 마포구 상암동 ...  "
      ]
     },
     "execution_count": 35,
     "metadata": {},
     "output_type": "execute_result"
    }
   ],
   "source": [
    "df.head()"
   ]
  },
  {
   "cell_type": "code",
   "execution_count": 36,
   "id": "7af8abd9",
   "metadata": {},
   "outputs": [
    {
     "name": "stdout",
     "output_type": "stream",
     "text": [
      "바람 타고 온 단비 호남 해갈엔 역부족발레리나 강수진이란 이름 대신 국립발레단이 더 빛나게 하겠다년 월 일 제물포항에 첫발 디딘 손님  한국 개신교 역사 썼다전국 곳곳에 비강한 바람 주의  안준영  재입사 비판에 사과후속 조치는 없어날씨내일까지 전국 비 가끔 강풍 주의비 그치고 쌀쌀날씨 내일도 우산 챙기세요전국 강한 바람 주의김한수의 오마이갓인천에서 장로교가 감리교보다 년 늦은 이유밤사이 전국에 많은 비오늘도 내일도 내린다오늘 전국 비 제주전남에는 호우특보내일까지 비 오는 곳도년 전 선교사가 본 조선은 어땠을까강수진 국립발레단 단장 국립 예술단체 첫 연임트랙스 크로스오버 호차 진절미가 탄다계약 만대 돌파엠넷 순위조작 안준영  재입사 비판에 잘못된 판단 사과단비 내일까지 이어진다비 그친 뒤 찬바람에 기온 뚝인천 교회에 영국병원 비석이 서 있는 이유는쉐보레 트랙스 크로스오버 출고 개시  한국사업장 내수판매 월부터 숨통 트일 것뉴스 날씨 내일까지 전국에 비 조금강한 바람 주의\n"
     ]
    }
   ],
   "source": [
    "# 각 피처마다 말뭉치를 생성한다.\n",
    "title_corpus = \"\".join(df['title'].tolist())\n",
    "content_corpus = \"\".join(df['content_text'].tolist())\n",
    "print(title_corpus)"
   ]
  },
  {
   "cell_type": "code",
   "execution_count": null,
   "id": "1c422aaf",
   "metadata": {},
   "outputs": [],
   "source": []
  }
 ],
 "metadata": {
  "kernelspec": {
   "display_name": "Python 3 (ipykernel)",
   "language": "python",
   "name": "python3"
  },
  "language_info": {
   "codemirror_mode": {
    "name": "ipython",
    "version": 3
   },
   "file_extension": ".py",
   "mimetype": "text/x-python",
   "name": "python",
   "nbconvert_exporter": "python",
   "pygments_lexer": "ipython3",
   "version": "3.11.5"
  }
 },
 "nbformat": 4,
 "nbformat_minor": 5
}
