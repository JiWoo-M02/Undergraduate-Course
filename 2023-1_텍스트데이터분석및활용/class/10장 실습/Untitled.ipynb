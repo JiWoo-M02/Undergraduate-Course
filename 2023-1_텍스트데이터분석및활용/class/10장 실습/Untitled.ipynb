{
 "cells": [
  {
   "cell_type": "code",
   "execution_count": null,
   "id": "76b64ac6",
   "metadata": {},
   "outputs": [],
   "source": [
    "!pip install scikit-learn==1.0.2"
   ]
  },
  {
   "cell_type": "code",
   "execution_count": null,
   "id": "2011150d",
   "metadata": {},
   "outputs": [],
   "source": [
    "import numpy as np\n",
    "import pandas as pd \n",
    "\n",
    "data_df = pd.read_csv('auto-mpg.csv', header=0, engine='python')"
   ]
  },
  {
   "cell_type": "code",
   "execution_count": null,
   "id": "e400352c",
   "metadata": {},
   "outputs": [],
   "source": [
    "print(' 데이터셋 크기 : ', data_df.shape)\n",
    "\n",
    "data_df.head()"
   ]
  },
  {
   "cell_type": "code",
   "execution_count": null,
   "id": "a8786c9e",
   "metadata": {},
   "outputs": [],
   "source": [
    "data_df = data_df.drop(['car_name', 'origin', 'horsepower'], axis=1, inplace=False)"
   ]
  },
  {
   "cell_type": "code",
   "execution_count": null,
   "id": "f665c83a",
   "metadata": {},
   "outputs": [],
   "source": [
    "print(' 데이터세트 크기 : ', data_df.shape)\n",
    "\n",
    "data_df.head()"
   ]
  },
  {
   "cell_type": "code",
   "execution_count": null,
   "id": "3a067941",
   "metadata": {},
   "outputs": [],
   "source": [
    "data_df.info()"
   ]
  },
  {
   "cell_type": "code",
   "execution_count": null,
   "id": "2a466323",
   "metadata": {},
   "outputs": [],
   "source": [
    "from sklearn.linear_model import LinearRegression\n",
    "from sklearn.model_selection import train_test_split\n",
    "from sklearn.metrics import mean_squared_error, r2_score"
   ]
  },
  {
   "cell_type": "code",
   "execution_count": null,
   "id": "0e175a2e",
   "metadata": {},
   "outputs": [],
   "source": [
    "Y = data_df['mpg']\n",
    "X = data_df.drop(['mpg'], axis = 1, inplace = False)"
   ]
  },
  {
   "cell_type": "code",
   "execution_count": null,
   "id": "4325c130",
   "metadata": {},
   "outputs": [],
   "source": [
    "X_train, X_test, Y_train, Y_test = train_test_split(X, Y, test_size=0.3, random_state=0)"
   ]
  },
  {
   "cell_type": "code",
   "execution_count": null,
   "id": "0a9e9650",
   "metadata": {},
   "outputs": [],
   "source": [
    "lr = LinearRegression()"
   ]
  },
  {
   "cell_type": "code",
   "execution_count": null,
   "id": "59f88376",
   "metadata": {},
   "outputs": [],
   "source": [
    "lr.fit(X_train, Y_train)"
   ]
  },
  {
   "cell_type": "code",
   "execution_count": null,
   "id": "560f3fa4",
   "metadata": {},
   "outputs": [],
   "source": [
    "Y_predict = lr.predict(X_test)"
   ]
  },
  {
   "cell_type": "code",
   "execution_count": null,
   "id": "24580238",
   "metadata": {},
   "outputs": [],
   "source": [
    "mse = mean_squared_error(Y_test, Y_predict)\n",
    "rmse = np.sqrt(mse)\n",
    "\n",
    "print('MSE : {0:.3f}, RMSE : {1:.3f}'.format(mse, rmse))\n",
    "print('R^2(Variance score) : {0:.3f}'.format(r2_score(Y_test, Y_predict)))"
   ]
  },
  {
   "cell_type": "code",
   "execution_count": null,
   "id": "e7bb54d3",
   "metadata": {},
   "outputs": [],
   "source": [
    "print('Y 절편 값: ',  np.round(lr.intercept_, 2))\n",
    "print('회귀 계수 값: ', np.round(lr.coef_, 2))"
   ]
  },
  {
   "cell_type": "code",
   "execution_count": null,
   "id": "8ef41a93",
   "metadata": {},
   "outputs": [],
   "source": [
    "coef = pd.Series(data=np.round(lr.coef_, 2), index=X.columns)\n",
    "coef.sort_values(ascending=False)"
   ]
  },
  {
   "cell_type": "code",
   "execution_count": null,
   "id": "455a6ed6",
   "metadata": {},
   "outputs": [],
   "source": [
    "import matplotlib.pyplot as plt\n",
    "import seaborn as sns"
   ]
  },
  {
   "cell_type": "code",
   "execution_count": null,
   "id": "6af34803",
   "metadata": {},
   "outputs": [],
   "source": [
    "fig, axs = plt.subplots(figsize=(16, 16), ncols=3, nrows=2)\n",
    "\n",
    "x_features = ['model_year', 'acceleration', 'displacement', 'weight', 'cylinders']\n",
    "plot_color = ['r', 'b', 'y', 'g', 'r']\n",
    "\n",
    "for i, feature in enumerate(x_features):\n",
    "      row = int(i/3)\n",
    "      col = i%3\n",
    "      sns.regplot(x=feature, y='mpg', data=data_df, ax=axs[row][col], color=plot_color[i])"
   ]
  },
  {
   "cell_type": "code",
   "execution_count": null,
   "id": "f9f51435",
   "metadata": {},
   "outputs": [],
   "source": [
    "print(\"연비를 예측하고 싶은 차의 정보를 입력해주세요.\")\n",
    "\n",
    "cylinders_1 = int(input(\"cylinders : \"))\n",
    "displacement_1 = int(input(\"displacement : \"))\n",
    "weight_1 = int(input(\"weight : \"))\n",
    "acceleration_1 = int(input(\"acceleration : \"))\n",
    "model_year_1 = int(input(\"model_year : \"))"
   ]
  },
  {
   "cell_type": "code",
   "execution_count": null,
   "id": "e03a540e",
   "metadata": {},
   "outputs": [],
   "source": [
    "mpg_predict = lr.predict([[cylinders_1, displacement_1, weight_1, acceleration_1 , model_year_1]])"
   ]
  },
  {
   "cell_type": "code",
   "execution_count": null,
   "id": "2bec6808",
   "metadata": {},
   "outputs": [],
   "source": [
    "print(\"이 자동차의 예상 연비(mpg)는 %.2f 입니다.\" %mpg_predict)"
   ]
  },
  {
   "cell_type": "code",
   "execution_count": null,
   "id": "5db5c54e",
   "metadata": {},
   "outputs": [],
   "source": []
  }
 ],
 "metadata": {
  "kernelspec": {
   "display_name": "Python 3 (ipykernel)",
   "language": "python",
   "name": "python3"
  },
  "language_info": {
   "codemirror_mode": {
    "name": "ipython",
    "version": 3
   },
   "file_extension": ".py",
   "mimetype": "text/x-python",
   "name": "python",
   "nbconvert_exporter": "python",
   "pygments_lexer": "ipython3",
   "version": "3.10.9"
  }
 },
 "nbformat": 4,
 "nbformat_minor": 5
}
