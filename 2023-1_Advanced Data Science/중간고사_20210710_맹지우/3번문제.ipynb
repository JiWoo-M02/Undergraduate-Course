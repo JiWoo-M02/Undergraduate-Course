{
 "cells": [
  {
   "cell_type": "code",
   "execution_count": 39,
   "id": "2f7b140a",
   "metadata": {},
   "outputs": [
    {
     "name": "stdout",
     "output_type": "stream",
     "text": [
      "1보다 크고 10보다 작은 수를 입력하세요.\n",
      "입력 값: 9\n",
      "\n",
      "1\t2\t3\t4\t5\t6\t7\t8\t9\t\n",
      "18\t17\t16\t15\t14\t13\t12\t11\t10\t\n",
      "19\t20\t21\t22\t23\t24\t25\t26\t27\t\n",
      "36\t35\t34\t33\t32\t31\t30\t29\t28\t\n",
      "37\t38\t39\t40\t41\t42\t43\t44\t45\t\n",
      "54\t53\t52\t51\t50\t49\t48\t47\t46\t\n",
      "55\t56\t57\t58\t59\t60\t61\t62\t63\t\n",
      "72\t71\t70\t69\t68\t67\t66\t65\t64\t\n",
      "73\t74\t75\t76\t77\t78\t79\t80\t81\t\n"
     ]
    }
   ],
   "source": [
    "n = int(input(\"1보다 크고 10보다 작은 수를 입력하세요.\\n입력 값: \"))\n",
    "print(\"\")\n",
    "\n",
    "if((n>1) & (n<10)):\n",
    "    matrix = [[0 for _ in range(n)] for _ in range(n)]\n",
    "    num = 1\n",
    "    \n",
    "    for i in range(n):\n",
    "        if i % 2 == 0:\n",
    "            matrix[i][:] = list(range(num, num+n))\n",
    "            num += n\n",
    "            \n",
    "        else:\n",
    "            matrix[i][:] = list(range(num+n-1, num-1, -1))\n",
    "            num += n\n",
    "                \n",
    "    for row in matrix: \n",
    "        for element in row:\n",
    "            print(element, end=\"\\t\")\n",
    "        print()\n",
    "\n",
    "else:\n",
    "    print(\"잘못 입력하셨습니다\")\n",
    "    print(\"프로그램을 다시 작동해주세요\")\n"
   ]
  },
  {
   "cell_type": "code",
   "execution_count": null,
   "id": "e09ca0a1",
   "metadata": {},
   "outputs": [],
   "source": []
  }
 ],
 "metadata": {
  "kernelspec": {
   "display_name": "Python 3 (ipykernel)",
   "language": "python",
   "name": "python3"
  },
  "language_info": {
   "codemirror_mode": {
    "name": "ipython",
    "version": 3
   },
   "file_extension": ".py",
   "mimetype": "text/x-python",
   "name": "python",
   "nbconvert_exporter": "python",
   "pygments_lexer": "ipython3",
   "version": "3.10.9"
  }
 },
 "nbformat": 4,
 "nbformat_minor": 5
}
