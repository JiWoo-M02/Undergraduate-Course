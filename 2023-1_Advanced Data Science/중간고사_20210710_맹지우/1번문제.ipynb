{
 "cells": [
  {
   "cell_type": "code",
   "execution_count": 3,
   "id": "3b0f2b97",
   "metadata": {},
   "outputs": [
    {
     "name": "stdout",
     "output_type": "stream",
     "text": [
      "섭씨온도는 0도 = 화씨온도는 32.0도\n",
      "\n",
      "섭씨온도는 10도 = 화씨온도는 50.0도\n",
      "\n",
      "섭씨온도는 20도 = 화씨온도는 68.0도\n",
      "\n",
      "섭씨온도는 30도 = 화씨온도는 86.0도\n",
      "\n",
      "섭씨온도는 40도 = 화씨온도는 104.0도\n",
      "\n",
      "섭씨온도는 50도 = 화씨온도는 122.0도\n",
      "\n",
      "섭씨온도는 60도 = 화씨온도는 140.0도\n",
      "\n"
     ]
    }
   ],
   "source": [
    "def cel2fah(celsius):\n",
    "    fahrenheit = (9/5) * celsius + 32\n",
    "    return fahrenheit\n",
    "\n",
    "for celsius in range(0, 61, 10):\n",
    "    fahrenheit = cel2fah(celsius)\n",
    "    print(f\"섭씨온도는 {celsius}도 = 화씨온도는 {fahrenheit}도\")\n",
    "    print(\"\")"
   ]
  },
  {
   "cell_type": "code",
   "execution_count": null,
   "id": "22d98759",
   "metadata": {},
   "outputs": [],
   "source": []
  }
 ],
 "metadata": {
  "kernelspec": {
   "display_name": "Python 3 (ipykernel)",
   "language": "python",
   "name": "python3"
  },
  "language_info": {
   "codemirror_mode": {
    "name": "ipython",
    "version": 3
   },
   "file_extension": ".py",
   "mimetype": "text/x-python",
   "name": "python",
   "nbconvert_exporter": "python",
   "pygments_lexer": "ipython3",
   "version": "3.10.9"
  }
 },
 "nbformat": 4,
 "nbformat_minor": 5
}
