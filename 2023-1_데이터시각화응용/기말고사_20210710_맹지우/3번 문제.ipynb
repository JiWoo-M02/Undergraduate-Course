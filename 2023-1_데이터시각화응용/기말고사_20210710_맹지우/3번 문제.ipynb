{
 "cells": [
  {
   "cell_type": "code",
   "execution_count": 1,
   "id": "ee6f7464",
   "metadata": {},
   "outputs": [],
   "source": [
    "# 애국가 가사 파일을 이용하여 워드클라우드 그리기"
   ]
  },
  {
   "cell_type": "code",
   "execution_count": 25,
   "id": "c30cdce9",
   "metadata": {},
   "outputs": [],
   "source": [
    "from konlpy.tag import Twitter \n",
    "from collections import Counter"
   ]
  },
  {
   "cell_type": "code",
   "execution_count": 27,
   "id": "7379d209",
   "metadata": {},
   "outputs": [
    {
     "data": {
      "text/plain": [
       "['(1절)\\n',\n",
       " '동해물과 백두산이 마르고 닳도록\\n',\n",
       " '하느님이 보우하사 우리나라만세\\n',\n",
       " '(후렴)무궁화 삼천리 화려강산 대한사람 대한으로 길이 보전하세\\n',\n",
       " '\\n',\n",
       " '(2절)\\n',\n",
       " '남산위에 저 소나무 철갑을 두른듯\\n',\n",
       " '바람서리 불변함은 우리기상 일세\\n',\n",
       " '(후렴)무궁화 삼천리 화려강산 대한사람 대한으로 길이보전하세\\n',\n",
       " '\\n',\n",
       " '(3절)\\n',\n",
       " '가을하늘 공활한데 높고 구름없이 \\n',\n",
       " '밝은달은 우리가슴 일편단심일세\\n',\n",
       " '(후렴)무궁화 삼천리 화려강산 대한사람 대한으로 길이보전하세\\n',\n",
       " '\\n',\n",
       " '(4절)\\n',\n",
       " '이 기상과 이 맘으로 충성을 다하여\\n',\n",
       " '괴로우나 즐거우나 나라사랑하세\\n',\n",
       " '(후렴)무궁화 삼천리 화려강산 대한사람 대한으로 길이보전하세']"
      ]
     },
     "execution_count": 27,
     "metadata": {},
     "output_type": "execute_result"
    }
   ],
   "source": [
    "file = open('애국가(가사).txt', 'r', encoding='utf-8')\n",
    "\n",
    "lists = file.readlines()\n",
    "\n",
    "file.close()\n",
    "\n",
    "lists"
   ]
  },
  {
   "cell_type": "code",
   "execution_count": 28,
   "id": "5d81925c",
   "metadata": {},
   "outputs": [
    {
     "name": "stdout",
     "output_type": "stream",
     "text": [
      "[[('(', 'Punctuation'), ('1', 'Number'), ('절', 'Noun'), (')', 'Punctuation'), ('\\n', 'Foreign')], [('동', 'Modifier'), ('해물', 'Noun'), ('과', 'Josa'), ('백두산', 'Noun'), ('이', 'Josa'), ('마르고', 'Noun'), ('닳도록', 'Verb'), ('\\n', 'Foreign')], [('하느님', 'Noun'), ('이', 'Josa'), ('보우', 'Noun'), ('하사', 'Noun'), ('우리나라', 'Noun'), ('만세', 'Noun'), ('\\n', 'Foreign')], [('(', 'Punctuation'), ('후렴', 'Noun'), (')', 'Punctuation'), ('무궁화', 'Noun'), ('삼천리', 'Noun'), ('화려', 'Noun'), ('강산', 'Noun'), ('대한', 'Noun'), ('사람', 'Noun'), ('대한', 'Noun'), ('으로', 'Josa'), ('길이', 'Noun'), ('보전', 'Noun'), ('하세', 'Verb'), ('\\n', 'Foreign')], [('\\n', 'Foreign')], [('(', 'Punctuation'), ('2', 'Number'), ('절', 'Noun'), (')', 'Punctuation'), ('\\n', 'Foreign')], [('남산', 'Noun'), ('위', 'Noun'), ('에', 'Josa'), ('저', 'Noun'), ('소나무', 'Noun'), ('철갑', 'Noun'), ('을', 'Josa'), ('두른듯', 'Verb'), ('\\n', 'Foreign')], [('바람', 'Noun'), ('서리', 'Noun'), ('불변', 'Noun'), ('함', 'Noun'), ('은', 'Josa'), ('우리', 'Noun'), ('기상', 'Noun'), ('일세', 'Verb'), ('\\n', 'Foreign')], [('(', 'Punctuation'), ('후렴', 'Noun'), (')', 'Punctuation'), ('무궁화', 'Noun'), ('삼천리', 'Noun'), ('화려', 'Noun'), ('강산', 'Noun'), ('대한', 'Noun'), ('사람', 'Noun'), ('대한', 'Noun'), ('으로', 'Josa'), ('길이', 'Noun'), ('보전', 'Noun'), ('하세', 'Verb'), ('\\n', 'Foreign')], [('\\n', 'Foreign')], [('(', 'Punctuation'), ('3', 'Number'), ('절', 'Noun'), (')', 'Punctuation'), ('\\n', 'Foreign')], [('가을', 'Noun'), ('하늘', 'Noun'), ('공', 'Modifier'), ('활', 'Noun'), ('한', 'Determiner'), ('데', 'Noun'), ('높고', 'Adjective'), ('구름', 'Noun'), ('없이', 'Adverb')], [('밝은', 'Verb'), ('달', 'Noun'), ('은', 'Josa'), ('우리', 'Noun'), ('가슴', 'Noun'), ('일편단심', 'Noun'), ('일세', 'Verb'), ('\\n', 'Foreign')], [('(', 'Punctuation'), ('후렴', 'Noun'), (')', 'Punctuation'), ('무궁화', 'Noun'), ('삼천리', 'Noun'), ('화려', 'Noun'), ('강산', 'Noun'), ('대한', 'Noun'), ('사람', 'Noun'), ('대한', 'Noun'), ('으로', 'Josa'), ('길이', 'Noun'), ('보전', 'Noun'), ('하세', 'Verb'), ('\\n', 'Foreign')], [('\\n', 'Foreign')], [('(', 'Punctuation'), ('4', 'Number'), ('절', 'Noun'), (')', 'Punctuation'), ('\\n', 'Foreign')], [('이', 'Noun'), ('기상', 'Noun'), ('과', 'Josa'), ('이', 'Noun'), ('맘', 'Noun'), ('으로', 'Josa'), ('충성', 'Noun'), ('을', 'Josa'), ('다', 'Adverb'), ('하여', 'Verb'), ('\\n', 'Foreign')], [('괴로우나', 'Adjective'), ('즐거우나', 'Adjective'), ('나라', 'Noun'), ('사랑', 'Noun'), ('하세', 'Verb'), ('\\n', 'Foreign')], [('(', 'Punctuation'), ('후렴', 'Noun'), (')', 'Punctuation'), ('무궁화', 'Noun'), ('삼천리', 'Noun'), ('화려', 'Noun'), ('강산', 'Noun'), ('대한', 'Noun'), ('사람', 'Noun'), ('대한', 'Noun'), ('으로', 'Josa'), ('길이', 'Noun'), ('보전', 'Noun'), ('하세', 'Verb')]]\n"
     ]
    },
    {
     "name": "stderr",
     "output_type": "stream",
     "text": [
      "C:\\Users\\A\\anaconda3\\lib\\site-packages\\konlpy\\tag\\_okt.py:17: UserWarning: \"Twitter\" has changed to \"Okt\" since KoNLPy v0.4.5.\n",
      "  warn('\"Twitter\" has changed to \"Okt\" since KoNLPy v0.4.5.')\n"
     ]
    }
   ],
   "source": [
    "twitter = Twitter() \n",
    "morphs = [] \n",
    "\n",
    "for sentence in lists: \n",
    "    morphs.append(twitter.pos(sentence)) \n",
    "print(morphs)"
   ]
  },
  {
   "cell_type": "code",
   "execution_count": 29,
   "id": "db3e3d04",
   "metadata": {},
   "outputs": [
    {
     "name": "stdout",
     "output_type": "stream",
     "text": [
      "['절', '해물', '백두산', '마르고', '하느님', '보우', '하사', '만세', '후렴', '무궁화', '삼천리', '화려', '강산', '대한', '사람', '대한', '길이', '보전', '절', '남산', '위', '저', '철갑', '바람', '서리', '불변', '함', '우리', '기상', '후렴', '무궁화', '삼천리', '화려', '강산', '대한', '사람', '대한', '길이', '보전', '절', '가을', '하늘', '활', '데', '구름', '달', '우리', '가슴', '일편단심', '후렴', '무궁화', '삼천리', '화려', '강산', '대한', '사람', '대한', '길이', '보전', '절', '이', '기상', '이', '맘', '충성', '사랑', '후렴', '무궁화', '삼천리', '화려', '강산', '대한', '사람', '대한', '길이', '보전']\n"
     ]
    }
   ],
   "source": [
    "noun_adj_adv_list=[] \n",
    "for sentence in morphs : \n",
    "    for word, tag in sentence : \n",
    "        if tag in ['Noun'] and (\"것\" not in word) and (\"내\" not in word)and (\"나\" not in word)and (\"수\"not in word) and(\"게\"not in word)and(\"말\"not in word): \n",
    "            noun_adj_adv_list.append(word) \n",
    "\n",
    "print(noun_adj_adv_list)"
   ]
  },
  {
   "cell_type": "code",
   "execution_count": 30,
   "id": "c5632d6c",
   "metadata": {},
   "outputs": [],
   "source": [
    "count = Counter(noun_adj_adv_list)\n",
    "words = dict(count.most_common())"
   ]
  },
  {
   "cell_type": "code",
   "execution_count": 31,
   "id": "1df58084",
   "metadata": {},
   "outputs": [],
   "source": [
    "from wordcloud import WordCloud \n",
    "import matplotlib.pyplot as plt \n",
    "import nltk \n",
    "from nltk.corpus import stopwords"
   ]
  },
  {
   "cell_type": "code",
   "execution_count": null,
   "id": "1009e528",
   "metadata": {},
   "outputs": [],
   "source": [
    "# 워드클라우드 생성 및 저장\n",
    "wordcloud = WordCloud( width = 800, height = 400, background_color = 'white').generate_from_frequencies(count)\n",
    "\n",
    "plt.figure(figsize = (10, 5))\n",
    "plt.imshow(wordcloud, interpolation = 'bilinear')\n",
    "plt.axis('off')\n",
    "plt.title('Word Frequency WordCloud')\n",
    "plt.show()\n",
    "\n",
    "wordcloud.to_file('wordcloud.png')"
   ]
  }
 ],
 "metadata": {
  "kernelspec": {
   "display_name": "Python 3 (ipykernel)",
   "language": "python",
   "name": "python3"
  },
  "language_info": {
   "codemirror_mode": {
    "name": "ipython",
    "version": 3
   },
   "file_extension": ".py",
   "mimetype": "text/x-python",
   "name": "python",
   "nbconvert_exporter": "python",
   "pygments_lexer": "ipython3",
   "version": "3.10.9"
  }
 },
 "nbformat": 4,
 "nbformat_minor": 5
}
