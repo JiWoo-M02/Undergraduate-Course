{
 "cells": [
  {
   "cell_type": "code",
   "execution_count": 16,
   "id": "10bf61ef",
   "metadata": {},
   "outputs": [],
   "source": [
    "%matplotlib inline\n",
    "\n",
    "import pandas as pd\n",
    "import numpy as np\n",
    "import matplotlib.pyplot as plt\n",
    "import seaborn as sns\n",
    "import warnings\n",
    "warnings.filterwarnings(\"ignore\")"
   ]
  },
  {
   "cell_type": "code",
   "execution_count": 17,
   "id": "1ef5c6f0",
   "metadata": {},
   "outputs": [
    {
     "data": {
      "text/html": [
       "<div>\n",
       "<style scoped>\n",
       "    .dataframe tbody tr th:only-of-type {\n",
       "        vertical-align: middle;\n",
       "    }\n",
       "\n",
       "    .dataframe tbody tr th {\n",
       "        vertical-align: top;\n",
       "    }\n",
       "\n",
       "    .dataframe thead th {\n",
       "        text-align: right;\n",
       "    }\n",
       "</style>\n",
       "<table border=\"1\" class=\"dataframe\">\n",
       "  <thead>\n",
       "    <tr style=\"text-align: right;\">\n",
       "      <th></th>\n",
       "      <th>TOWN</th>\n",
       "      <th>LON</th>\n",
       "      <th>LAT</th>\n",
       "      <th>y</th>\n",
       "      <th>CRIM</th>\n",
       "      <th>ZN</th>\n",
       "      <th>INDUS</th>\n",
       "      <th>CHAS</th>\n",
       "      <th>NOX</th>\n",
       "      <th>RM</th>\n",
       "      <th>AGE</th>\n",
       "      <th>DIS</th>\n",
       "      <th>RAD</th>\n",
       "      <th>TAX</th>\n",
       "      <th>PTRATIO</th>\n",
       "      <th>B</th>\n",
       "      <th>LSTAT</th>\n",
       "    </tr>\n",
       "  </thead>\n",
       "  <tbody>\n",
       "    <tr>\n",
       "      <th>0</th>\n",
       "      <td>Nahant</td>\n",
       "      <td>-70.955</td>\n",
       "      <td>42.2550</td>\n",
       "      <td>24.0</td>\n",
       "      <td>0.00632</td>\n",
       "      <td>18.0</td>\n",
       "      <td>2.31</td>\n",
       "      <td>0</td>\n",
       "      <td>0.538</td>\n",
       "      <td>6.575</td>\n",
       "      <td>65.2</td>\n",
       "      <td>4.0900</td>\n",
       "      <td>1</td>\n",
       "      <td>296</td>\n",
       "      <td>15.3</td>\n",
       "      <td>396.90</td>\n",
       "      <td>4.98</td>\n",
       "    </tr>\n",
       "    <tr>\n",
       "      <th>1</th>\n",
       "      <td>Swampscott</td>\n",
       "      <td>-70.950</td>\n",
       "      <td>42.2875</td>\n",
       "      <td>21.6</td>\n",
       "      <td>0.02731</td>\n",
       "      <td>0.0</td>\n",
       "      <td>7.07</td>\n",
       "      <td>0</td>\n",
       "      <td>0.469</td>\n",
       "      <td>6.421</td>\n",
       "      <td>78.9</td>\n",
       "      <td>4.9671</td>\n",
       "      <td>2</td>\n",
       "      <td>242</td>\n",
       "      <td>17.8</td>\n",
       "      <td>396.90</td>\n",
       "      <td>9.14</td>\n",
       "    </tr>\n",
       "    <tr>\n",
       "      <th>2</th>\n",
       "      <td>Swampscott</td>\n",
       "      <td>-70.936</td>\n",
       "      <td>42.2830</td>\n",
       "      <td>34.7</td>\n",
       "      <td>0.02729</td>\n",
       "      <td>0.0</td>\n",
       "      <td>7.07</td>\n",
       "      <td>0</td>\n",
       "      <td>0.469</td>\n",
       "      <td>7.185</td>\n",
       "      <td>61.1</td>\n",
       "      <td>4.9671</td>\n",
       "      <td>2</td>\n",
       "      <td>242</td>\n",
       "      <td>17.8</td>\n",
       "      <td>392.83</td>\n",
       "      <td>4.03</td>\n",
       "    </tr>\n",
       "    <tr>\n",
       "      <th>3</th>\n",
       "      <td>Marblehead</td>\n",
       "      <td>-70.928</td>\n",
       "      <td>42.2930</td>\n",
       "      <td>33.4</td>\n",
       "      <td>0.03237</td>\n",
       "      <td>0.0</td>\n",
       "      <td>2.18</td>\n",
       "      <td>0</td>\n",
       "      <td>0.458</td>\n",
       "      <td>6.998</td>\n",
       "      <td>45.8</td>\n",
       "      <td>6.0622</td>\n",
       "      <td>3</td>\n",
       "      <td>222</td>\n",
       "      <td>18.7</td>\n",
       "      <td>394.63</td>\n",
       "      <td>2.94</td>\n",
       "    </tr>\n",
       "    <tr>\n",
       "      <th>4</th>\n",
       "      <td>Marblehead</td>\n",
       "      <td>-70.922</td>\n",
       "      <td>42.2980</td>\n",
       "      <td>36.2</td>\n",
       "      <td>0.06905</td>\n",
       "      <td>0.0</td>\n",
       "      <td>2.18</td>\n",
       "      <td>0</td>\n",
       "      <td>0.458</td>\n",
       "      <td>7.147</td>\n",
       "      <td>54.2</td>\n",
       "      <td>6.0622</td>\n",
       "      <td>3</td>\n",
       "      <td>222</td>\n",
       "      <td>18.7</td>\n",
       "      <td>396.90</td>\n",
       "      <td>5.33</td>\n",
       "    </tr>\n",
       "  </tbody>\n",
       "</table>\n",
       "</div>"
      ],
      "text/plain": [
       "         TOWN     LON      LAT     y     CRIM    ZN  INDUS  CHAS    NOX  \\\n",
       "0      Nahant -70.955  42.2550  24.0  0.00632  18.0   2.31     0  0.538   \n",
       "1  Swampscott -70.950  42.2875  21.6  0.02731   0.0   7.07     0  0.469   \n",
       "2  Swampscott -70.936  42.2830  34.7  0.02729   0.0   7.07     0  0.469   \n",
       "3  Marblehead -70.928  42.2930  33.4  0.03237   0.0   2.18     0  0.458   \n",
       "4  Marblehead -70.922  42.2980  36.2  0.06905   0.0   2.18     0  0.458   \n",
       "\n",
       "      RM   AGE     DIS  RAD  TAX  PTRATIO       B  LSTAT  \n",
       "0  6.575  65.2  4.0900    1  296     15.3  396.90   4.98  \n",
       "1  6.421  78.9  4.9671    2  242     17.8  396.90   9.14  \n",
       "2  7.185  61.1  4.9671    2  242     17.8  392.83   4.03  \n",
       "3  6.998  45.8  6.0622    3  222     18.7  394.63   2.94  \n",
       "4  7.147  54.2  6.0622    3  222     18.7  396.90   5.33  "
      ]
     },
     "execution_count": 17,
     "metadata": {},
     "output_type": "execute_result"
    }
   ],
   "source": [
    "file_path = 'BostonHousing2.csv'\n",
    "BostonHousing2 = pd.read_csv(file_path)\n",
    "BostonHousing2 = BostonHousing2.rename(columns = {'CMEDV': 'y'})\n",
    "BostonHousing2.head()"
   ]
  },
  {
   "cell_type": "code",
   "execution_count": 18,
   "id": "24f5e2dd",
   "metadata": {},
   "outputs": [],
   "source": [
    "from sklearn import linear_model\n",
    "from sklearn.model_selection import train_test_split\n",
    "from sklearn.metrics import mean_squared_error\n",
    "from math import sqrt"
   ]
  },
  {
   "cell_type": "code",
   "execution_count": 22,
   "id": "7a76b979",
   "metadata": {},
   "outputs": [],
   "source": [
    "# 1. 회귀 분석을 수행하기 위한 데이터셋을 분리\n",
    "\n",
    "X = BostonHousing2[['CRIM', 'ZN', 'INDUS', 'CHAS', 'NOX', 'RM', 'AGE', 'DIS', \n",
    "                    'RAD', 'TAX', 'PTRATIO', 'B', 'LSTAT']]\n",
    "y = BostonHousing2['y']\n",
    "\n",
    "X_train, X_test, y_train, y_test = train_test_split(X, y, test_size=0.2, random_state=33)"
   ]
  },
  {
   "cell_type": "code",
   "execution_count": 25,
   "id": "7f941105",
   "metadata": {},
   "outputs": [
    {
     "name": "stdout",
     "output_type": "stream",
     "text": [
      "RMSE: 4.615\n"
     ]
    }
   ],
   "source": [
    "# 2. 분리한 데이터셋으로 회귀분석 수행\n",
    "\n",
    "lr = linear_model.LinearRegression()              # 선형 회귀 모델 생성\n",
    "model = lr.fit(X_train, y_train)                  # 모델 훈련\n",
    "\n",
    "y_pred = lr.predict(X_test)                       # 테스트 데이터 예측\n",
    "\n",
    "rmse = sqrt(mean_squared_error(y_test, y_pred))   # 모델 평가\n",
    "print(\"RMSE: {:.3f}\".format(rmse))"
   ]
  },
  {
   "cell_type": "code",
   "execution_count": 24,
   "id": "2f40a7a5",
   "metadata": {},
   "outputs": [
    {
     "name": "stdout",
     "output_type": "stream",
     "text": [
      "[-1.11193551e-01  5.09415195e-02  3.25436161e-02  3.02115825e+00\n",
      " -1.54108556e+01  4.04590890e+00 -1.97595267e-03 -1.56114408e+00\n",
      "  3.27038718e-01 -1.38825230e-02 -8.22151628e-01  8.74659468e-03\n",
      " -5.85060261e-01]\n"
     ]
    }
   ],
   "source": [
    "# 4. 회귀 모델 피처의 계수 출력\n",
    "\n",
    "print(lr.coef_)"
   ]
  },
  {
   "cell_type": "code",
   "execution_count": null,
   "id": "61bd7613",
   "metadata": {},
   "outputs": [],
   "source": []
  }
 ],
 "metadata": {
  "kernelspec": {
   "display_name": "Python 3 (ipykernel)",
   "language": "python",
   "name": "python3"
  },
  "language_info": {
   "codemirror_mode": {
    "name": "ipython",
    "version": 3
   },
   "file_extension": ".py",
   "mimetype": "text/x-python",
   "name": "python",
   "nbconvert_exporter": "python",
   "pygments_lexer": "ipython3",
   "version": "3.10.9"
  }
 },
 "nbformat": 4,
 "nbformat_minor": 5
}
