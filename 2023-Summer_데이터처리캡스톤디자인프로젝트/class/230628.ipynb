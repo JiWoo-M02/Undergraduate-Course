{
 "cells": [
  {
   "cell_type": "code",
   "execution_count": 1,
   "id": "bc34fdc2",
   "metadata": {},
   "outputs": [
    {
     "name": "stdout",
     "output_type": "stream",
     "text": [
      "Defaulting to user installation because normal site-packages is not writeable\n",
      "Requirement already satisfied: JEDI in c:\\programdata\\anaconda3\\lib\\site-packages (0.18.1)\n",
      "Requirement already satisfied: parso<0.9.0,>=0.8.0 in c:\\programdata\\anaconda3\\lib\\site-packages (from JEDI) (0.8.3)\n"
     ]
    }
   ],
   "source": [
    "!pip install JEDI"
   ]
  },
  {
   "cell_type": "code",
   "execution_count": 2,
   "id": "71518bed",
   "metadata": {},
   "outputs": [
    {
     "name": "stdout",
     "output_type": "stream",
     "text": [
      "[1, 2, 3]\n"
     ]
    }
   ],
   "source": [
    "x = [1, 2, 3]\n",
    "y = x\n",
    "print(y)"
   ]
  },
  {
   "cell_type": "code",
   "execution_count": 3,
   "id": "fc4ce096",
   "metadata": {},
   "outputs": [
    {
     "name": "stdout",
     "output_type": "stream",
     "text": [
      "[1, 2, 3, 4]\n"
     ]
    }
   ],
   "source": [
    "x.append(4) # x가 가리키는 리스트에 4를 추가\n",
    "print(y)"
   ]
  },
  {
   "cell_type": "code",
   "execution_count": 4,
   "id": "8701cdc3",
   "metadata": {},
   "outputs": [
    {
     "name": "stdout",
     "output_type": "stream",
     "text": [
      "7.5 + 0.0 i\n"
     ]
    }
   ],
   "source": [
    "x = 7.5\n",
    "print(x.real, \"+\", x.imag, 'i')"
   ]
  },
  {
   "cell_type": "code",
   "execution_count": 5,
   "id": "5cbadc98",
   "metadata": {},
   "outputs": [
    {
     "data": {
      "text/plain": [
       "False"
      ]
     },
     "execution_count": 5,
     "metadata": {},
     "output_type": "execute_result"
    }
   ],
   "source": [
    "x = 7.5\n",
    "x.is_integer()"
   ]
  },
  {
   "cell_type": "code",
   "execution_count": 6,
   "id": "82a6730e",
   "metadata": {},
   "outputs": [
    {
     "data": {
      "text/plain": [
       "True"
      ]
     },
     "execution_count": 6,
     "metadata": {},
     "output_type": "execute_result"
    }
   ],
   "source": [
    "x = 7.0\n",
    "x.is_integer()"
   ]
  },
  {
   "cell_type": "code",
   "execution_count": 7,
   "id": "1f3ce709",
   "metadata": {},
   "outputs": [
    {
     "data": {
      "text/plain": [
       "builtin_function_or_method"
      ]
     },
     "execution_count": 7,
     "metadata": {},
     "output_type": "execute_result"
    }
   ],
   "source": [
    "type(x.is_integer)"
   ]
  },
  {
   "cell_type": "code",
   "execution_count": 8,
   "id": "f4be027b",
   "metadata": {},
   "outputs": [
    {
     "data": {
      "text/plain": [
       "int"
      ]
     },
     "execution_count": 8,
     "metadata": {},
     "output_type": "execute_result"
    }
   ],
   "source": [
    "x = 10\n",
    "type(x)"
   ]
  },
  {
   "cell_type": "code",
   "execution_count": 9,
   "id": "fdf9a6ac",
   "metadata": {},
   "outputs": [
    {
     "name": "stdout",
     "output_type": "stream",
     "text": [
      "True\n"
     ]
    }
   ],
   "source": [
    "x = 0.000005\n",
    "y = 5e-6\n",
    "print(x == y)"
   ]
  },
  {
   "cell_type": "code",
   "execution_count": 10,
   "id": "ffed4b08",
   "metadata": {},
   "outputs": [
    {
     "name": "stdout",
     "output_type": "stream",
     "text": [
      "True\n"
     ]
    }
   ],
   "source": [
    "x = 1400000.00\n",
    "y = 1.4e6\n",
    "print(x == y)"
   ]
  },
  {
   "cell_type": "code",
   "execution_count": 11,
   "id": "de4b8562",
   "metadata": {},
   "outputs": [
    {
     "name": "stdout",
     "output_type": "stream",
     "text": [
      "문자열을 만들어 봐요! 문자열은 이렇게 만들 수도 있어요~\n"
     ]
    }
   ],
   "source": [
    "A = '문자열을 만들어 봐요!'\n",
    "B = \"문자열은 이렇게 만들 수도 있어요~\"\n",
    "print(A, B)"
   ]
  },
  {
   "cell_type": "code",
   "execution_count": 12,
   "id": "5a357329",
   "metadata": {},
   "outputs": [
    {
     "data": {
      "text/plain": [
       "bool"
      ]
     },
     "execution_count": 12,
     "metadata": {},
     "output_type": "execute_result"
    }
   ],
   "source": [
    "case1 = (5 < 10)\n",
    "case1\n",
    "type(case1)"
   ]
  },
  {
   "cell_type": "code",
   "execution_count": 13,
   "id": "68ff6d32",
   "metadata": {},
   "outputs": [
    {
     "name": "stdout",
     "output_type": "stream",
     "text": [
      "True False\n"
     ]
    }
   ],
   "source": [
    "print(True, False)"
   ]
  },
  {
   "cell_type": "code",
   "execution_count": 14,
   "id": "25a3fc4c",
   "metadata": {},
   "outputs": [
    {
     "data": {
      "text/plain": [
       "10.0"
      ]
     },
     "execution_count": 14,
     "metadata": {},
     "output_type": "execute_result"
    }
   ],
   "source": [
    "float(10)"
   ]
  },
  {
   "cell_type": "code",
   "execution_count": 15,
   "id": "b07e674d",
   "metadata": {},
   "outputs": [
    {
     "data": {
      "text/plain": [
       "str"
      ]
     },
     "execution_count": 15,
     "metadata": {},
     "output_type": "execute_result"
    }
   ],
   "source": [
    "s = '5.6328'\n",
    "type(s)"
   ]
  },
  {
   "cell_type": "code",
   "execution_count": 16,
   "id": "bfb6639c",
   "metadata": {},
   "outputs": [
    {
     "data": {
      "text/plain": [
       "float"
      ]
     },
     "execution_count": 16,
     "metadata": {},
     "output_type": "execute_result"
    }
   ],
   "source": [
    "f_value = float(s)\n",
    "type(f_value)"
   ]
  },
  {
   "cell_type": "code",
   "execution_count": 17,
   "id": "39edd61b",
   "metadata": {},
   "outputs": [
    {
     "data": {
      "text/plain": [
       "5"
      ]
     },
     "execution_count": 17,
     "metadata": {},
     "output_type": "execute_result"
    }
   ],
   "source": [
    "int(f_value)"
   ]
  },
  {
   "cell_type": "code",
   "execution_count": 18,
   "id": "a7bfc590",
   "metadata": {},
   "outputs": [
    {
     "name": "stdout",
     "output_type": "stream",
     "text": [
      "apple\n",
      "None\n"
     ]
    }
   ],
   "source": [
    "f_value = print('apple')\n",
    "print(f_value)"
   ]
  },
  {
   "cell_type": "code",
   "execution_count": 19,
   "id": "9f9156a7",
   "metadata": {},
   "outputs": [
    {
     "name": "stdout",
     "output_type": "stream",
     "text": [
      "[1, 3, 5, None]\n"
     ]
    }
   ],
   "source": [
    "list_a = [1, 3, 5, None]\n",
    "print(list_a)"
   ]
  },
  {
   "cell_type": "code",
   "execution_count": 20,
   "id": "8a9f3f69",
   "metadata": {},
   "outputs": [
    {
     "name": "stdout",
     "output_type": "stream",
     "text": [
      "('apple', 'orange', 'banana')\n",
      "['apple', 'orange', 'banana']\n"
     ]
    }
   ],
   "source": [
    "tup = ('apple', 'orange', 'banana')\n",
    "print(tup)\n",
    "list_b = list(tup)\n",
    "print(list_b)"
   ]
  },
  {
   "cell_type": "code",
   "execution_count": 21,
   "id": "24879e74",
   "metadata": {},
   "outputs": [
    {
     "data": {
      "text/plain": [
       "3"
      ]
     },
     "execution_count": 21,
     "metadata": {},
     "output_type": "execute_result"
    }
   ],
   "source": [
    "len(list_b)"
   ]
  },
  {
   "cell_type": "code",
   "execution_count": 22,
   "id": "ba6c7cd9",
   "metadata": {},
   "outputs": [
    {
     "name": "stdout",
     "output_type": "stream",
     "text": [
      "[1, 'apple', 5.76, 3, 7, [2, 4, 6, 8]]\n"
     ]
    }
   ],
   "source": [
    "list_c = [1, 'apple', 5.76, 3, 7, [2, 4, 6, 8]]\n",
    "print(list_c)"
   ]
  },
  {
   "cell_type": "code",
   "execution_count": 23,
   "id": "0ba11a7c",
   "metadata": {},
   "outputs": [
    {
     "name": "stdout",
     "output_type": "stream",
     "text": [
      "1\n",
      "5\n"
     ]
    }
   ],
   "source": [
    "list_d = [1, 3, 5, 7, 9, 2, 4, 6, 8, 10]\n",
    "print(list_d[0])\n",
    "print(list_d[2])"
   ]
  },
  {
   "cell_type": "code",
   "execution_count": 24,
   "id": "787ee2ad",
   "metadata": {},
   "outputs": [
    {
     "name": "stdout",
     "output_type": "stream",
     "text": [
      "10\n",
      "6\n"
     ]
    }
   ],
   "source": [
    "print(list_d[-1])\n",
    "print(list_d[-3])"
   ]
  },
  {
   "cell_type": "code",
   "execution_count": 25,
   "id": "2dec7126",
   "metadata": {},
   "outputs": [
    {
     "name": "stdout",
     "output_type": "stream",
     "text": [
      "[5, 7, 9, 2]\n",
      "[9, 2, 4, 6]\n"
     ]
    }
   ],
   "source": [
    "print(list_d[2:6])\n",
    "print(list_d[-6:-2])"
   ]
  },
  {
   "cell_type": "code",
   "execution_count": 26,
   "id": "e55c6ca8",
   "metadata": {},
   "outputs": [
    {
     "name": "stdout",
     "output_type": "stream",
     "text": [
      "(1, 2, 3)\n",
      "(1, 2, 3)\n"
     ]
    }
   ],
   "source": [
    "t = (1, 2, 3)\n",
    "print(t)\n",
    "t = 1, 2, 3\n",
    "print(t)"
   ]
  },
  {
   "cell_type": "code",
   "execution_count": 27,
   "id": "4ba90a70",
   "metadata": {},
   "outputs": [
    {
     "name": "stdout",
     "output_type": "stream",
     "text": [
      "3\n",
      "5\n"
     ]
    }
   ],
   "source": [
    "a, b = 3, 5\n",
    "print(a)\n",
    "print(b)"
   ]
  },
  {
   "cell_type": "code",
   "execution_count": 28,
   "id": "4f4e7528",
   "metadata": {},
   "outputs": [
    {
     "name": "stdout",
     "output_type": "stream",
     "text": [
      "5\n",
      "3\n"
     ]
    }
   ],
   "source": [
    "b, a = a, b\n",
    "print(a)\n",
    "print(b)"
   ]
  },
  {
   "cell_type": "code",
   "execution_count": 29,
   "id": "a99ad4a8",
   "metadata": {},
   "outputs": [
    {
     "data": {
      "text/plain": [
       "3"
      ]
     },
     "execution_count": 29,
     "metadata": {},
     "output_type": "execute_result"
    }
   ],
   "source": [
    "tup = (1, 4, 3, 3, 2, 2, 5, 1, 1)\n",
    "tup.count(1)"
   ]
  },
  {
   "cell_type": "code",
   "execution_count": 30,
   "id": "51e288cf",
   "metadata": {},
   "outputs": [
    {
     "name": "stdout",
     "output_type": "stream",
     "text": [
      "{'one': 1, 'two': 2, 'three': 3}\n",
      "dict_keys(['one', 'two', 'three']) dict_values([1, 2, 3])\n"
     ]
    }
   ],
   "source": [
    "nums = {'one' : 1, 'two' : 2, 'three' : 3}\n",
    "print(nums)\n",
    "\n",
    "keys = nums.keys()\n",
    "values = nums.values()\n",
    "print(keys, values)"
   ]
  },
  {
   "cell_type": "code",
   "execution_count": 31,
   "id": "23644b5d",
   "metadata": {},
   "outputs": [
    {
     "data": {
      "text/plain": [
       "2"
      ]
     },
     "execution_count": 31,
     "metadata": {},
     "output_type": "execute_result"
    }
   ],
   "source": [
    "nums['two']"
   ]
  },
  {
   "cell_type": "code",
   "execution_count": 32,
   "id": "d368f34c",
   "metadata": {},
   "outputs": [
    {
     "name": "stdout",
     "output_type": "stream",
     "text": [
      "{'one': 1, 'two': 2, 'three': 3, 'four': 'some value'}\n"
     ]
    }
   ],
   "source": [
    "nums['four'] = 'some value'\n",
    "print(nums)"
   ]
  },
  {
   "cell_type": "code",
   "execution_count": 33,
   "id": "3781b269",
   "metadata": {},
   "outputs": [
    {
     "data": {
      "text/plain": [
       "{1, 2, 3}"
      ]
     },
     "execution_count": 33,
     "metadata": {},
     "output_type": "execute_result"
    }
   ],
   "source": [
    "set([1, 1, 1, 2, 3, 3,])"
   ]
  },
  {
   "cell_type": "code",
   "execution_count": 34,
   "id": "7d853317",
   "metadata": {},
   "outputs": [
    {
     "data": {
      "text/plain": [
       "{1, 2, 3}"
      ]
     },
     "execution_count": 34,
     "metadata": {},
     "output_type": "execute_result"
    }
   ],
   "source": [
    "{1, 1, 1, 2, 3, 3}"
   ]
  },
  {
   "cell_type": "code",
   "execution_count": 36,
   "id": "ff5b7d59",
   "metadata": {},
   "outputs": [],
   "source": [
    "a = {1, 2, 3, 4, 5}\n",
    "b = {3, 4, 5, 6, 7, 8,}"
   ]
  },
  {
   "cell_type": "code",
   "execution_count": 37,
   "id": "35ecc917",
   "metadata": {},
   "outputs": [
    {
     "data": {
      "text/plain": [
       "{1, 2, 3, 4, 5, 6, 7, 8}"
      ]
     },
     "execution_count": 37,
     "metadata": {},
     "output_type": "execute_result"
    }
   ],
   "source": [
    "a | b"
   ]
  },
  {
   "cell_type": "code",
   "execution_count": 39,
   "id": "e461a7e4",
   "metadata": {},
   "outputs": [
    {
     "data": {
      "text/plain": [
       "{1, 2, 3, 4, 5, 6, 7, 8}"
      ]
     },
     "execution_count": 39,
     "metadata": {},
     "output_type": "execute_result"
    }
   ],
   "source": [
    "a.union(b)"
   ]
  },
  {
   "cell_type": "code",
   "execution_count": 40,
   "id": "bb53ed87",
   "metadata": {},
   "outputs": [
    {
     "data": {
      "text/plain": [
       "{3, 4, 5}"
      ]
     },
     "execution_count": 40,
     "metadata": {},
     "output_type": "execute_result"
    }
   ],
   "source": [
    "a & b"
   ]
  },
  {
   "cell_type": "code",
   "execution_count": 41,
   "id": "c1f521fe",
   "metadata": {},
   "outputs": [
    {
     "data": {
      "text/plain": [
       "{3, 4, 5}"
      ]
     },
     "execution_count": 41,
     "metadata": {},
     "output_type": "execute_result"
    }
   ],
   "source": [
    "a.intersection(b)"
   ]
  },
  {
   "cell_type": "code",
   "execution_count": 42,
   "id": "9bd9ce83",
   "metadata": {},
   "outputs": [
    {
     "name": "stdout",
     "output_type": "stream",
     "text": [
      "양수이지만 5보다는 작군요.\n"
     ]
    }
   ],
   "source": [
    "x = 3\n",
    "\n",
    "if x < 0 :\n",
    "    print('음수군요.')\n",
    "elif x == 0 :\n",
    "    print('0과 같군요.')\n",
    "elif 0 < x < 5 :\n",
    "    print('양수이지만 5보다는 작군요.')\n",
    "else :\n",
    "    print('양수이지만 5와 같거나 크네요.')"
   ]
  },
  {
   "cell_type": "code",
   "execution_count": 46,
   "id": "d368993c",
   "metadata": {},
   "outputs": [
    {
     "name": "stdout",
     "output_type": "stream",
     "text": [
      "13579"
     ]
    }
   ],
   "source": [
    "for n in [1, 3, 5, 7, 9] :\n",
    "    print(n, end = '')"
   ]
  },
  {
   "cell_type": "code",
   "execution_count": 47,
   "id": "eb11f625",
   "metadata": {},
   "outputs": [
    {
     "data": {
      "text/plain": [
       "[0, 1, 2, 3, 4, 5, 6, 7, 8, 9]"
      ]
     },
     "execution_count": 47,
     "metadata": {},
     "output_type": "execute_result"
    }
   ],
   "source": [
    "list(range(10))"
   ]
  },
  {
   "cell_type": "code",
   "execution_count": 48,
   "id": "1c5a28b9",
   "metadata": {},
   "outputs": [
    {
     "data": {
      "text/plain": [
       "[0, 2, 4, 6, 8, 10, 12, 14, 16, 18]"
      ]
     },
     "execution_count": 48,
     "metadata": {},
     "output_type": "execute_result"
    }
   ],
   "source": [
    "list(range(0, 20, 2))"
   ]
  },
  {
   "cell_type": "code",
   "execution_count": 49,
   "id": "12aeca39",
   "metadata": {},
   "outputs": [
    {
     "data": {
      "text/plain": [
       "[5, 4, 3, 2, 1]"
      ]
     },
     "execution_count": 49,
     "metadata": {},
     "output_type": "execute_result"
    }
   ],
   "source": [
    "list(range(5, 0, -1))"
   ]
  },
  {
   "cell_type": "code",
   "execution_count": 50,
   "id": "49d68945",
   "metadata": {},
   "outputs": [
    {
     "name": "stdout",
     "output_type": "stream",
     "text": [
      "10\n"
     ]
    }
   ],
   "source": [
    "num = 0\n",
    "\n",
    "for i in range(1, 21, 2):\n",
    "    num = num + 1\n",
    "print(num)"
   ]
  },
  {
   "cell_type": "code",
   "execution_count": 51,
   "id": "f8e5dbde",
   "metadata": {},
   "outputs": [
    {
     "name": "stdout",
     "output_type": "stream",
     "text": [
      "1번째 숫자는 음수.\n",
      "2번째 숫자는 양수이지만 40보다는 작다.\n",
      "3번째 숫자는 양수이지만 20보다는 작다.\n",
      "4번째 숫자는 음수.\n",
      "5번째 숫자는 양수이지만 20보다는 작다.\n",
      "6번째 숫자는 양수이고 50보다 크다.\n"
     ]
    }
   ],
   "source": [
    "nums = [-8, 32, 7, -1, 15, 51]   # 숫자 리스트 정의\n",
    "\n",
    "i = 0 \n",
    "for num in nums: \n",
    "    i = i + 1 \n",
    "    if num < 0 : \n",
    "        print('%d번째 숫자는 음수.' %i)\n",
    "    elif 0 < num < 20 :\n",
    "        print('%d번째 숫자는 양수이지만 20보다는 작다.' %i)\n",
    "    elif 21 < num < 40 :\n",
    "        print('%d번째 숫자는 양수이지만 40보다는 작다.' %i)\n",
    "    else: \n",
    "        print('%d번째 숫자는 양수이고 50보다 크다.' %i)"
   ]
  },
  {
   "cell_type": "code",
   "execution_count": 52,
   "id": "976917bd",
   "metadata": {},
   "outputs": [
    {
     "data": {
      "text/plain": [
       "[0, 2, 4, 6, 8, 10, 12, 14, 16, 18]"
      ]
     },
     "execution_count": 52,
     "metadata": {},
     "output_type": "execute_result"
    }
   ],
   "source": [
    "result = []\n",
    "for i in range(10) :\n",
    "    result.append(i * 2)\n",
    "result"
   ]
  },
  {
   "cell_type": "code",
   "execution_count": 53,
   "id": "693fe226",
   "metadata": {},
   "outputs": [
    {
     "data": {
      "text/plain": [
       "[0, 2, 4, 6, 8, 10, 12, 14, 16, 18]"
      ]
     },
     "execution_count": 53,
     "metadata": {},
     "output_type": "execute_result"
    }
   ],
   "source": [
    "[i * 2 for i in range(10)]"
   ]
  },
  {
   "cell_type": "code",
   "execution_count": 54,
   "id": "22966da3",
   "metadata": {},
   "outputs": [
    {
     "data": {
      "text/plain": [
       "['BANANA', 'DARK', 'DRINK', 'EFFECT']"
      ]
     },
     "execution_count": 54,
     "metadata": {},
     "output_type": "execute_result"
    }
   ],
   "source": [
    "text = ['am', 'banana', 'car', 'dark', 'drink', 'effect']\n",
    "[x.upper() for x in text if len(x) > 3]"
   ]
  },
  {
   "cell_type": "code",
   "execution_count": 60,
   "id": "9489a3d3",
   "metadata": {},
   "outputs": [
    {
     "name": "stdout",
     "output_type": "stream",
     "text": [
      "[0, 2, 4, 6, 8, 10, 12, 14, 16, 18]"
     ]
    }
   ],
   "source": [
    "result = []\n",
    "for n in range(10) :\n",
    "    result.append(n * 2)\n",
    "print(result, end = '')"
   ]
  },
  {
   "cell_type": "code",
   "execution_count": 61,
   "id": "3f3178ac",
   "metadata": {},
   "outputs": [
    {
     "data": {
      "text/plain": [
       "{2, 3, 4, 5, 6}"
      ]
     },
     "execution_count": 61,
     "metadata": {},
     "output_type": "execute_result"
    }
   ],
   "source": [
    "text_length = {len(x) for x in text}\n",
    "text_length"
   ]
  },
  {
   "cell_type": "code",
   "execution_count": 62,
   "id": "09533938",
   "metadata": {},
   "outputs": [
    {
     "data": {
      "text/plain": [
       "{2, 3, 4, 5, 6}"
      ]
     },
     "execution_count": 62,
     "metadata": {},
     "output_type": "execute_result"
    }
   ],
   "source": [
    "set(map(len, text))"
   ]
  },
  {
   "cell_type": "code",
   "execution_count": 63,
   "id": "ff5736d1",
   "metadata": {},
   "outputs": [
    {
     "name": "stdout",
     "output_type": "stream",
     "text": [
      "[1, 2, 3, 4, 5, 6, 7, 8, 9]\n"
     ]
    }
   ],
   "source": [
    "tuples = [(1, 2, 3), (4, 5, 6), (7, 8, 9)]\n",
    "simple_list = [x for tup in tuples for x in tup]\n",
    "print(simple_list)"
   ]
  },
  {
   "cell_type": "code",
   "execution_count": 64,
   "id": "5af1d0f3",
   "metadata": {},
   "outputs": [
    {
     "name": "stdout",
     "output_type": "stream",
     "text": [
      "0 0\n",
      "1 5\n",
      "2 10\n",
      "3 15\n",
      "4 20\n"
     ]
    }
   ],
   "source": [
    "items = [0, 5, 10, 15, 20]\n",
    "for i in range(len(items)) :\n",
    "    print(i, items[i])"
   ]
  },
  {
   "cell_type": "code",
   "execution_count": 66,
   "id": "1fc7f1d6",
   "metadata": {},
   "outputs": [
    {
     "name": "stdout",
     "output_type": "stream",
     "text": [
      "0 0\n",
      "1 5\n",
      "2 10\n",
      "3 15\n",
      "4 20\n"
     ]
    }
   ],
   "source": [
    "for i, v in enumerate(items) :\n",
    "    print(i,v)"
   ]
  },
  {
   "cell_type": "code",
   "execution_count": 67,
   "id": "2cd92cc1",
   "metadata": {},
   "outputs": [
    {
     "name": "stdout",
     "output_type": "stream",
     "text": [
      "0 5\n",
      "5 25\n",
      "10 125\n",
      "15 256\n",
      "20 512\n"
     ]
    }
   ],
   "source": [
    "li_1 = [0, 5, 10, 15, 20]\n",
    "li_2 = [5, 25, 125, 256, 512]\n",
    "for i, v in zip(li_1, li_2) :\n",
    "    print(i, v)"
   ]
  },
  {
   "cell_type": "code",
   "execution_count": 68,
   "id": "18255c95",
   "metadata": {},
   "outputs": [
    {
     "data": {
      "text/plain": [
       "[0, 1, 2, 3, 4, 5, 6, 7, 8, 9]"
      ]
     },
     "execution_count": 68,
     "metadata": {},
     "output_type": "execute_result"
    }
   ],
   "source": [
    "sorted([9, 3, 1, 6, 8, 2, 5, 4, 7, 0])"
   ]
  },
  {
   "cell_type": "code",
   "execution_count": 69,
   "id": "384c4d07",
   "metadata": {},
   "outputs": [
    {
     "data": {
      "text/plain": [
       "[' ', '!', 'H', 'a', 'a', 'd', 'p', 'p', 'y', 'y']"
      ]
     },
     "execution_count": 69,
     "metadata": {},
     "output_type": "execute_result"
    }
   ],
   "source": [
    "sorted('Happy day!')"
   ]
  },
  {
   "cell_type": "code",
   "execution_count": 70,
   "id": "b759db64",
   "metadata": {},
   "outputs": [],
   "source": [
    "def plus(a, b):\n",
    "    total = a + b\n",
    "    return total"
   ]
  },
  {
   "cell_type": "code",
   "execution_count": 71,
   "id": "a0fa6632",
   "metadata": {},
   "outputs": [
    {
     "data": {
      "text/plain": [
       "13"
      ]
     },
     "execution_count": 71,
     "metadata": {},
     "output_type": "execute_result"
    }
   ],
   "source": [
    "plus(5, 8)"
   ]
  },
  {
   "cell_type": "code",
   "execution_count": 73,
   "id": "cec96257",
   "metadata": {},
   "outputs": [
    {
     "data": {
      "text/plain": [
       "40"
      ]
     },
     "execution_count": 73,
     "metadata": {},
     "output_type": "execute_result"
    }
   ],
   "source": [
    "def multiplication(a, b, c=5) :\n",
    "    return a * b * c\n",
    "multiplication(2, 4)"
   ]
  },
  {
   "cell_type": "code",
   "execution_count": 74,
   "id": "06c007d8",
   "metadata": {},
   "outputs": [
    {
     "data": {
      "text/plain": [
       "(5, 3, 7)"
      ]
     },
     "execution_count": 74,
     "metadata": {},
     "output_type": "execute_result"
    }
   ],
   "source": [
    "def show() :\n",
    "    a = 5\n",
    "    b = 3\n",
    "    c = 7\n",
    "    return a, b, c\n",
    "show()"
   ]
  },
  {
   "cell_type": "code",
   "execution_count": 75,
   "id": "873b7399",
   "metadata": {},
   "outputs": [
    {
     "data": {
      "text/plain": [
       "[6, 12, 18, 24, 30]"
      ]
     },
     "execution_count": 75,
     "metadata": {},
     "output_type": "execute_result"
    }
   ],
   "source": [
    "func_1 = lambda x: x * 3\n",
    "li_1 = [2, 4, 6, 8, 10]\n",
    "list(map(func_1, li_1))"
   ]
  },
  {
   "cell_type": "code",
   "execution_count": 76,
   "id": "9ab8b7ea",
   "metadata": {},
   "outputs": [],
   "source": [
    "import numpy as np\n",
    "import pandas as pd\n",
    "import seaborn as sns"
   ]
  },
  {
   "cell_type": "code",
   "execution_count": 77,
   "id": "eaec1962",
   "metadata": {},
   "outputs": [
    {
     "data": {
      "text/plain": [
       "array([5. , 9. , 2.5, 3. , 1. ])"
      ]
     },
     "execution_count": 77,
     "metadata": {},
     "output_type": "execute_result"
    }
   ],
   "source": [
    "data_1 = [5, 9, 2.5, 3, 1]\n",
    "array_1 = np.array(data_1)\n",
    "array_1"
   ]
  },
  {
   "cell_type": "code",
   "execution_count": 78,
   "id": "e70cd299",
   "metadata": {},
   "outputs": [
    {
     "data": {
      "text/plain": [
       "[[1, 3, 5, 7, 9], [2, 4, 6, 8, 10]]"
      ]
     },
     "execution_count": 78,
     "metadata": {},
     "output_type": "execute_result"
    }
   ],
   "source": [
    "data_2 = [[1, 3, 5, 7, 9], [2, 4, 6, 8, 10]]\n",
    "array_2 = np.array(data_2)\n",
    "data_2"
   ]
  },
  {
   "cell_type": "code",
   "execution_count": 79,
   "id": "37e21bfe",
   "metadata": {},
   "outputs": [
    {
     "name": "stdout",
     "output_type": "stream",
     "text": [
      "2\n",
      "(2, 5)\n"
     ]
    }
   ],
   "source": [
    "print(array_2.ndim)\n",
    "print(array_2.shape)"
   ]
  },
  {
   "cell_type": "code",
   "execution_count": 80,
   "id": "77337a53",
   "metadata": {},
   "outputs": [
    {
     "name": "stdout",
     "output_type": "stream",
     "text": [
      "float64\n",
      "int32\n"
     ]
    }
   ],
   "source": [
    "print(array_1.dtype)\n",
    "print(array_2.dtype)"
   ]
  },
  {
   "cell_type": "code",
   "execution_count": 81,
   "id": "c1fb6e53",
   "metadata": {},
   "outputs": [
    {
     "data": {
      "text/plain": [
       "array([0., 0., 0., 0., 0., 0., 0., 0., 0., 0.])"
      ]
     },
     "execution_count": 81,
     "metadata": {},
     "output_type": "execute_result"
    }
   ],
   "source": [
    "np.zeros(10)"
   ]
  },
  {
   "cell_type": "code",
   "execution_count": 82,
   "id": "f1c31127",
   "metadata": {},
   "outputs": [
    {
     "data": {
      "text/plain": [
       "array([0, 1, 2, 3, 4, 5, 6, 7, 8, 9])"
      ]
     },
     "execution_count": 82,
     "metadata": {},
     "output_type": "execute_result"
    }
   ],
   "source": [
    "np.arange(10)"
   ]
  },
  {
   "cell_type": "code",
   "execution_count": 83,
   "id": "c150462a",
   "metadata": {},
   "outputs": [
    {
     "data": {
      "text/plain": [
       "array([ 5,  8, 11, 14, 17, 20, 23, 26, 29])"
      ]
     },
     "execution_count": 83,
     "metadata": {},
     "output_type": "execute_result"
    }
   ],
   "source": [
    "np.arange(5, 30, 3)"
   ]
  },
  {
   "cell_type": "code",
   "execution_count": 85,
   "id": "7eafbc02",
   "metadata": {},
   "outputs": [],
   "source": [
    "array_1 = np.array([1, 3, 5, 7, 9], dtype = np.float32)\n",
    "array_2 = np.array([1, 3, 5, 7, 9], dtype = np.int16)"
   ]
  },
  {
   "cell_type": "code",
   "execution_count": 86,
   "id": "92f71c37",
   "metadata": {},
   "outputs": [
    {
     "data": {
      "text/plain": [
       "dtype('float32')"
      ]
     },
     "execution_count": 86,
     "metadata": {},
     "output_type": "execute_result"
    }
   ],
   "source": [
    "array_1.dtype"
   ]
  },
  {
   "cell_type": "code",
   "execution_count": 87,
   "id": "721fd8fb",
   "metadata": {},
   "outputs": [
    {
     "data": {
      "text/plain": [
       "dtype('int16')"
      ]
     },
     "execution_count": 87,
     "metadata": {},
     "output_type": "execute_result"
    }
   ],
   "source": [
    "array_2.dtype"
   ]
  },
  {
   "cell_type": "code",
   "execution_count": 88,
   "id": "9313356b",
   "metadata": {},
   "outputs": [
    {
     "data": {
      "text/plain": [
       "dtype('S5')"
      ]
     },
     "execution_count": 88,
     "metadata": {},
     "output_type": "execute_result"
    }
   ],
   "source": [
    "num_strings = np.array(['-3.15', '5', '8.4', '21', '-12'], dtype = np.string_)\n",
    "num_strings.dtype"
   ]
  },
  {
   "cell_type": "code",
   "execution_count": 89,
   "id": "7d6a949c",
   "metadata": {},
   "outputs": [
    {
     "data": {
      "text/plain": [
       "array([ -3.15,   5.  ,   8.4 ,  21.  , -12.  ])"
      ]
     },
     "execution_count": 89,
     "metadata": {},
     "output_type": "execute_result"
    }
   ],
   "source": [
    "num_strings = num_strings.astype(float) \n",
    "num_strings"
   ]
  },
  {
   "cell_type": "code",
   "execution_count": 90,
   "id": "773b9d0f",
   "metadata": {},
   "outputs": [
    {
     "data": {
      "text/plain": [
       "dtype('float64')"
      ]
     },
     "execution_count": 90,
     "metadata": {},
     "output_type": "execute_result"
    }
   ],
   "source": [
    "num_strings.dtype #float64 실수형, S5 string 글씨"
   ]
  },
  {
   "cell_type": "code",
   "execution_count": 91,
   "id": "0f61f4ab",
   "metadata": {},
   "outputs": [],
   "source": [
    "array_1 = np.array([[1., 2., 3., 4., 5.], [6., 7., 8., 9., 10.]])\n",
    "array_2 = np.array([[1., 3., 5., 7., 9.], [2., 4., 6., 8., 10.]])"
   ]
  },
  {
   "cell_type": "code",
   "execution_count": 92,
   "id": "c195e0eb",
   "metadata": {},
   "outputs": [
    {
     "data": {
      "text/plain": [
       "array([[  1.,   6.,  15.,  28.,  45.],\n",
       "       [ 12.,  28.,  48.,  72., 100.]])"
      ]
     },
     "execution_count": 92,
     "metadata": {},
     "output_type": "execute_result"
    }
   ],
   "source": [
    "array_1 * array_2"
   ]
  },
  {
   "cell_type": "code",
   "execution_count": 93,
   "id": "0d2d874e",
   "metadata": {},
   "outputs": [
    {
     "data": {
      "text/plain": [
       "array([[ 0., -1., -2., -3., -4.],\n",
       "       [ 4.,  3.,  2.,  1.,  0.]])"
      ]
     },
     "execution_count": 93,
     "metadata": {},
     "output_type": "execute_result"
    }
   ],
   "source": [
    "array_1 - array_2"
   ]
  },
  {
   "cell_type": "code",
   "execution_count": 94,
   "id": "7a84c943",
   "metadata": {},
   "outputs": [
    {
     "data": {
      "text/plain": [
       "array([[1.        , 0.5       , 0.33333333, 0.25      , 0.2       ],\n",
       "       [0.16666667, 0.14285714, 0.125     , 0.11111111, 0.1       ]])"
      ]
     },
     "execution_count": 94,
     "metadata": {},
     "output_type": "execute_result"
    }
   ],
   "source": [
    "1/array_1"
   ]
  },
  {
   "cell_type": "code",
   "execution_count": 95,
   "id": "51d0cade",
   "metadata": {},
   "outputs": [
    {
     "data": {
      "text/plain": [
       "array([[1.        , 1.31607401, 1.49534878, 1.62657656, 1.73205081],\n",
       "       [1.18920712, 1.41421356, 1.56508458, 1.68179283, 1.77827941]])"
      ]
     },
     "execution_count": 95,
     "metadata": {},
     "output_type": "execute_result"
    }
   ],
   "source": [
    "array_2 ** 0.25"
   ]
  },
  {
   "cell_type": "code",
   "execution_count": 96,
   "id": "9fbd651b",
   "metadata": {},
   "outputs": [
    {
     "data": {
      "text/plain": [
       "array([[False, False, False, False, False],\n",
       "       [ True,  True,  True,  True, False]])"
      ]
     },
     "execution_count": 96,
     "metadata": {},
     "output_type": "execute_result"
    }
   ],
   "source": [
    "array_1 > array_2"
   ]
  },
  {
   "cell_type": "code",
   "execution_count": null,
   "id": "87b8e3fc",
   "metadata": {},
   "outputs": [],
   "source": []
  }
 ],
 "metadata": {
  "kernelspec": {
   "display_name": "Python 3 (ipykernel)",
   "language": "python",
   "name": "python3"
  },
  "language_info": {
   "codemirror_mode": {
    "name": "ipython",
    "version": 3
   },
   "file_extension": ".py",
   "mimetype": "text/x-python",
   "name": "python",
   "nbconvert_exporter": "python",
   "pygments_lexer": "ipython3",
   "version": "3.9.13"
  }
 },
 "nbformat": 4,
 "nbformat_minor": 5
}
