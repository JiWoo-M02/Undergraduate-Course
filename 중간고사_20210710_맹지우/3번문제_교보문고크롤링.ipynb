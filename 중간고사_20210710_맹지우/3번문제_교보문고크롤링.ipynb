{
 "cells": [
  {
   "cell_type": "code",
   "execution_count": 1,
   "id": "f465851a",
   "metadata": {},
   "outputs": [],
   "source": [
    "import requests\n",
    "from bs4 import BeautifulSoup\n",
    "\n",
    "url = 'https://www.kyobobook.co.kr/bestSellerNew/bestseller.laf'\n",
    "\n",
    "# HTTP 요청 보내기\n",
    "response = requests.get(url)\n",
    "\n",
    "# HTML 문서 파싱\n",
    "soup = BeautifulSoup(response.text, 'html.parser')\n",
    "\n",
    "# 분야별 베스트 정보 추출\n",
    "for category in soup.select('#main_contents > ul > li'):\n",
    "    # 분야 이름\n",
    "    category_name = category.select_one('div.title_area > strong > a').text.strip()\n",
    "    print(category_name)\n",
    "    \n",
    "    # 베스트 책 정보\n",
    "    for book in category.select('div.title > a'):\n",
    "        book_title = book.text.strip()\n",
    "        book_link = 'https://www.kyobobook.co.kr' + book['href']\n",
    "        print(book_title, book_link)\n"
   ]
  },
  {
   "cell_type": "code",
   "execution_count": null,
   "id": "089c077d",
   "metadata": {},
   "outputs": [],
   "source": []
  }
 ],
 "metadata": {
  "kernelspec": {
   "display_name": "Python 3 (ipykernel)",
   "language": "python",
   "name": "python3"
  },
  "language_info": {
   "codemirror_mode": {
    "name": "ipython",
    "version": 3
   },
   "file_extension": ".py",
   "mimetype": "text/x-python",
   "name": "python",
   "nbconvert_exporter": "python",
   "pygments_lexer": "ipython3",
   "version": "3.10.9"
  }
 },
 "nbformat": 4,
 "nbformat_minor": 5
}
